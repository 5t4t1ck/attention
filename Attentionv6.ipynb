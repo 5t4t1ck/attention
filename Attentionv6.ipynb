{
  "nbformat": 4,
  "nbformat_minor": 0,
  "metadata": {
    "colab": {
      "name": "Attentionv6",
      "provenance": [],
      "collapsed_sections": [],
      "include_colab_link": true
    },
    "kernelspec": {
      "name": "python3",
      "display_name": "Python 3"
    },
    "accelerator": "TPU"
  },
  "cells": [
    {
      "cell_type": "markdown",
      "metadata": {
        "id": "view-in-github",
        "colab_type": "text"
      },
      "source": [
        "<a href=\"https://colab.research.google.com/github/5t4t1ck/attention/blob/main/Attentionv6.ipynb\" target=\"_parent\"><img src=\"https://colab.research.google.com/assets/colab-badge.svg\" alt=\"Open In Colab\"/></a>"
      ]
    },
    {
      "cell_type": "code",
      "metadata": {
        "id": "SKhk6XW1IaVg"
      },
      "source": [
        "#import tensorflow\n",
        "from tensorflow.keras.preprocessing.image import ImageDataGenerator\n",
        "from keras.layers import Dense\n",
        "from keras.layers import Dropout,Input\n",
        "from keras.layers import Flatten\n",
        "from keras.layers import Conv2D\n",
        "from keras.layers import MaxPooling2D\n",
        "from keras.layers import BatchNormalization\n",
        "from keras.layers import Activation\n",
        "from keras.models import Model,Sequential\n",
        "from keras.optimizers import Adam\n",
        "from keras.preprocessing.image import load_img,img_to_array\n",
        "from keras.models import load_model\n",
        "from keras.preprocessing.image import ImageDataGenerator\n",
        "import matplotlib.pyplot as plt\n",
        "import os\n",
        "import zipfile\n",
        "from google.colab import drive\n",
        "!pip install -U -q PyDrive\n",
        "from pydrive.auth import GoogleAuth\n",
        "from pydrive.drive import GoogleDrive\n",
        "from google.colab import auth\n",
        "from oauth2client.client import GoogleCredentials"
      ],
      "execution_count": 15,
      "outputs": []
    },
    {
      "cell_type": "code",
      "metadata": {
        "id": "mPPzjIIZIhWh",
        "colab": {
          "base_uri": "https://localhost:8080/"
        },
        "outputId": "f6df0962-60dd-48cd-c691-08a5e127f62d"
      },
      "source": [
        "drive.mount('/content/drive')"
      ],
      "execution_count": 16,
      "outputs": [
        {
          "output_type": "stream",
          "text": [
            "Drive already mounted at /content/drive; to attempt to forcibly remount, call drive.mount(\"/content/drive\", force_remount=True).\n"
          ],
          "name": "stdout"
        }
      ]
    },
    {
      "cell_type": "code",
      "metadata": {
        "id": "CHpXTl9eIh03"
      },
      "source": [
        "local_zip = 'drive/My Drive/Attention/attention.zip'\n",
        "zip_ref = zipfile.ZipFile(local_zip, 'r')\n",
        "zip_ref.extractall('/tmp/attention')\n",
        "zip_ref.close()"
      ],
      "execution_count": 17,
      "outputs": []
    },
    {
      "cell_type": "code",
      "metadata": {
        "id": "r2kc4qhNIhx7"
      },
      "source": [
        "base_dir = '/tmp/attention/data/'\n",
        "train_dir = os.path.join(base_dir)\n",
        "\n",
        "train_Atento = os.path.join('/tmp/attention/data/atento')\n",
        "train_Desatento = os.path.join('/tmp/attention/data/desatento')"
      ],
      "execution_count": 18,
      "outputs": []
    },
    {
      "cell_type": "code",
      "metadata": {
        "id": "MAFChfJSIhvw",
        "colab": {
          "base_uri": "https://localhost:8080/"
        },
        "outputId": "e451fb4f-1738-4051-eb60-bf1e07f2282d"
      },
      "source": [
        "train_Atento_names = os.listdir(train_Atento)\n",
        "print(train_Atento_names[:10])\n",
        "\n",
        "train_Desatento_names = os.listdir(train_Desatento)\n",
        "print(train_Desatento_names[:10])"
      ],
      "execution_count": 19,
      "outputs": [
        {
          "output_type": "stream",
          "text": [
            "['attention16116.jpg', 'attention13936.jpg', 'attention14340.jpg', 'attention16322.jpg', 'attention13873.jpg', 'attention14097.jpg', 'attention16031.jpg', 'attention14306.jpg', 'attention14379.jpg', 'attention15699.jpg']\n",
            "['desatencion275681.jpg', 'attention34582.jpg', 'attention31249.jpg', 'attention32749.jpg', 'attention33635.jpg', 'attention33213.jpg', 'attention35130.jpg', 'attention32435.jpg', 'attention32634.jpg', 'attention31543.jpg']\n"
          ],
          "name": "stdout"
        }
      ]
    },
    {
      "cell_type": "code",
      "metadata": {
        "id": "3kZGJqfTzDVR",
        "colab": {
          "base_uri": "https://localhost:8080/"
        },
        "outputId": "f1e9f17b-2451-4b79-c6c8-06765870b91b"
      },
      "source": [
        "print('total training Atento images :', len(os.listdir(train_Atento)))\n",
        "print('total training Desatento images :', len(os.listdir(train_Desatento)))"
      ],
      "execution_count": 20,
      "outputs": [
        {
          "output_type": "stream",
          "text": [
            "total training Atento images : 2002\n",
            "total training Desatento images : 2001\n"
          ],
          "name": "stdout"
        }
      ]
    },
    {
      "cell_type": "code",
      "metadata": {
        "id": "QelsUcshIhoP",
        "colab": {
          "base_uri": "https://localhost:8080/"
        },
        "outputId": "2caa3920-3c4f-45f3-d5df-c2a1859816dd"
      },
      "source": [
        "for attention in os.listdir(base_dir):\n",
        "    #['Atento', 'Desatento']\n",
        "    #print(str(len(os.listdir(base_dir))))\n",
        "    print(str(len(os.listdir(base_dir + attention))) + \" \" + attention +\" images\")"
      ],
      "execution_count": 21,
      "outputs": [
        {
          "output_type": "stream",
          "text": [
            "2001 desatento images\n",
            "2002 atento images\n"
          ],
          "name": "stdout"
        }
      ]
    },
    {
      "cell_type": "code",
      "metadata": {
        "id": "73dC7ThVIhmE",
        "colab": {
          "base_uri": "https://localhost:8080/",
          "height": 191
        },
        "outputId": "6d727fd3-6626-451a-cca5-fba051aa5cda"
      },
      "source": [
        "# size of the image: 48*48 pixels\n",
        "pic_size = 48\n",
        "\n",
        "plt.figure(0, figsize=(12,20))\n",
        "cpt = 0\n",
        "\n",
        "for expression in os.listdir(base_dir):\n",
        "    for i in range(1,3):\n",
        "        cpt = cpt + 1\n",
        "        plt.subplot(7,5,cpt)\n",
        "        img = load_img(base_dir + attention + \"/\" +os.listdir(base_dir + attention)[i], target_size=(pic_size, pic_size))\n",
        "        plt.imshow(img, cmap=\"gray\")\n",
        "\n",
        "plt.tight_layout()\n",
        "plt.show()"
      ],
      "execution_count": 22,
      "outputs": [
        {
          "output_type": "display_data",
          "data": {
            "image/png": "[encoded data removed]",
            "text/plain": [
              "<Figure size 864x1440 with 4 Axes>"
            ]
          },
          "metadata": {
            "tags": [],
            "needs_background": "light"
          }
        }
      ]
    },
    {
      "cell_type": "code",
      "metadata": {
        "id": "G6xkU2itIhja",
        "colab": {
          "base_uri": "https://localhost:8080/"
        },
        "outputId": "a7f2d861-b388-46a9-82c1-c947734513db"
      },
      "source": [
        "\n",
        "# number of images to feed into the NN for every batch\n",
        "batch_size = 256\n",
        "\n",
        "datagen_train = ImageDataGenerator()\n",
        "#datagen_validation = ImageDataGenerator()\n",
        "train_generator = datagen_train.flow_from_directory(base_dir,\n",
        "                                                    target_size=(pic_size,pic_size),\n",
        "                                                    color_mode=\"grayscale\",\n",
        "                                                    batch_size=batch_size,\n",
        "                                                    class_mode='categorical',\n",
        "                                                    shuffle=True)"
      ],
      "execution_count": 23,
      "outputs": [
        {
          "output_type": "stream",
          "text": [
            "Found 4003 images belonging to 2 classes.\n"
          ],
          "name": "stdout"
        }
      ]
    },
    {
      "cell_type": "code",
      "metadata": {
        "id": "0c9Dmm_0Ihfq"
      },
      "source": [
        "#No. of possible label values\n",
        "nb_classes = 2\n",
        "#Initialising the CNN\n",
        "model = Sequential()\n",
        "#1\n",
        "model.add(Conv2D(64,(3,3), padding = 'same', input_shape = (48,48,1)))\n",
        "model.add(BatchNormalization())\n",
        "model.add(Activation('relu'))\n",
        "model.add(MaxPooling2D(pool_size = (2,2)))\n",
        "model.add(Dropout(0.25))\n",
        "\n",
        "#2\n",
        "model.add(Conv2D(128,(5,5), padding = 'same'))\n",
        "model.add(BatchNormalization())\n",
        "model.add(Activation('relu'))\n",
        "model.add(MaxPooling2D(pool_size = (2,2)))\n",
        "model.add(Dropout(0.25))\n",
        "\n",
        "#3\n",
        "model.add(Conv2D(512,(3,3), padding = 'same'))\n",
        "model.add(BatchNormalization())\n",
        "model.add(Activation('relu'))\n",
        "model.add(MaxPooling2D(pool_size = (2,2)))\n",
        "model.add(Dropout(0.25))\n",
        "\n",
        "#4\n",
        "model.add(Conv2D(64,(3,3), padding = 'same'))\n",
        "model.add(BatchNormalization())\n",
        "model.add(Activation('relu'))\n",
        "model.add(MaxPooling2D(pool_size = (2,2)))\n",
        "model.add(Dropout(0.25))\n",
        "\n",
        "#Flattening\n",
        "model.add(Flatten())\n",
        "\n",
        "#Full connected layer 1\n",
        "model.add(Dense(256))\n",
        "model.add(BatchNormalization())\n",
        "model.add(Activation('relu'))\n",
        "model.add(Dropout(0.25))\n",
        "\n",
        "#Full connected layer 2\n",
        "model.add(Dense(512))\n",
        "model.add(BatchNormalization())\n",
        "model.add(Activation('relu'))\n",
        "model.add(Dropout(0.25))\n",
        "\n",
        "model.add(Dense(nb_classes, activation = 'softmax'))\n",
        "\n",
        "opt = Adam(lr = 0.0004)\n",
        "\n",
        "model.compile(optimizer = opt, loss = 'categorical_crossentropy', metrics = ['accuracy'])"
      ],
      "execution_count": 24,
      "outputs": []
    },
    {
      "cell_type": "code",
      "metadata": {
        "id": "EMSZbZiOONj3",
        "colab": {
          "base_uri": "https://localhost:8080/"
        },
        "outputId": "12e9ce5f-6e9c-4e7c-a013-f7eda72d359f"
      },
      "source": [
        "model.summary()"
      ],
      "execution_count": 25,
      "outputs": [
        {
          "output_type": "stream",
          "text": [
            "Model: \"sequential_1\"\n",
            "_________________________________________________________________\n",
            "Layer (type)                 Output Shape              Param #   \n",
            "=================================================================\n",
            "conv2d_4 (Conv2D)            (None, 48, 48, 64)        640       \n",
            "_________________________________________________________________\n",
            "batch_normalization_6 (Batch (None, 48, 48, 64)        256       \n",
            "_________________________________________________________________\n",
            "activation_6 (Activation)    (None, 48, 48, 64)        0         \n",
            "_________________________________________________________________\n",
            "max_pooling2d_4 (MaxPooling2 (None, 24, 24, 64)        0         \n",
            "_________________________________________________________________\n",
            "dropout_6 (Dropout)          (None, 24, 24, 64)        0         \n",
            "_________________________________________________________________\n",
            "conv2d_5 (Conv2D)            (None, 24, 24, 128)       204928    \n",
            "_________________________________________________________________\n",
            "batch_normalization_7 (Batch (None, 24, 24, 128)       512       \n",
            "_________________________________________________________________\n",
            "activation_7 (Activation)    (None, 24, 24, 128)       0         \n",
            "_________________________________________________________________\n",
            "max_pooling2d_5 (MaxPooling2 (None, 12, 12, 128)       0         \n",
            "_________________________________________________________________\n",
            "dropout_7 (Dropout)          (None, 12, 12, 128)       0         \n",
            "_________________________________________________________________\n",
            "conv2d_6 (Conv2D)            (None, 12, 12, 512)       590336    \n",
            "_________________________________________________________________\n",
            "batch_normalization_8 (Batch (None, 12, 12, 512)       2048      \n",
            "_________________________________________________________________\n",
            "activation_8 (Activation)    (None, 12, 12, 512)       0         \n",
            "_________________________________________________________________\n",
            "max_pooling2d_6 (MaxPooling2 (None, 6, 6, 512)         0         \n",
            "_________________________________________________________________\n",
            "dropout_8 (Dropout)          (None, 6, 6, 512)         0         \n",
            "_________________________________________________________________\n",
            "conv2d_7 (Conv2D)            (None, 6, 6, 64)          294976    \n",
            "_________________________________________________________________\n",
            "batch_normalization_9 (Batch (None, 6, 6, 64)          256       \n",
            "_________________________________________________________________\n",
            "activation_9 (Activation)    (None, 6, 6, 64)          0         \n",
            "_________________________________________________________________\n",
            "max_pooling2d_7 (MaxPooling2 (None, 3, 3, 64)          0         \n",
            "_________________________________________________________________\n",
            "dropout_9 (Dropout)          (None, 3, 3, 64)          0         \n",
            "_________________________________________________________________\n",
            "flatten_1 (Flatten)          (None, 576)               0         \n",
            "_________________________________________________________________\n",
            "dense_3 (Dense)              (None, 256)               147712    \n",
            "_________________________________________________________________\n",
            "batch_normalization_10 (Batc (None, 256)               1024      \n",
            "_________________________________________________________________\n",
            "activation_10 (Activation)   (None, 256)               0         \n",
            "_________________________________________________________________\n",
            "dropout_10 (Dropout)         (None, 256)               0         \n",
            "_________________________________________________________________\n",
            "dense_4 (Dense)              (None, 512)               131584    \n",
            "_________________________________________________________________\n",
            "batch_normalization_11 (Batc (None, 512)               2048      \n",
            "_________________________________________________________________\n",
            "activation_11 (Activation)   (None, 512)               0         \n",
            "_________________________________________________________________\n",
            "dropout_11 (Dropout)         (None, 512)               0         \n",
            "_________________________________________________________________\n",
            "dense_5 (Dense)              (None, 2)                 1026      \n",
            "=================================================================\n",
            "Total params: 1,377,346\n",
            "Trainable params: 1,374,274\n",
            "Non-trainable params: 3,072\n",
            "_________________________________________________________________\n"
          ],
          "name": "stdout"
        }
      ]
    },
    {
      "cell_type": "code",
      "metadata": {
        "id": "IUz-pzIlONfn"
      },
      "source": [
        "#Training"
      ],
      "execution_count": 26,
      "outputs": []
    },
    {
      "cell_type": "code",
      "metadata": {
        "id": "de3xwG3UOo5T",
        "colab": {
          "base_uri": "https://localhost:8080/"
        },
        "outputId": "979abfa4-9312-4894-8f9a-c26abe8cf148"
      },
      "source": [
        "# number of epochs to train the NN\n",
        "epochs = 120\n",
        "from keras.callbacks import ModelCheckpoint\n",
        "\n",
        "#checkpoint = ModelCheckpoint(\"model_weights.h5\", monitor='val_acc', verbose=1, save_best_only=True, mode='max')\n",
        "#callbacks_list = [checkpoint]\n",
        "#steps per epoch = 28273/128 = 220\n",
        "history = model.fit_generator(generator=train_generator,\n",
        "                                steps_per_epoch=train_generator.n//train_generator.batch_size,\n",
        "                                epochs = epochs,\n",
        "                                verbose = 1)"
      ],
      "execution_count": 27,
      "outputs": [
        {
          "output_type": "stream",
          "text": [
            "WARNING:tensorflow:From <ipython-input-27-233acc87de00>:11: Model.fit_generator (from tensorflow.python.keras.engine.training) is deprecated and will be removed in a future version.\n",
            "Instructions for updating:\n",
            "Please use Model.fit, which supports generators.\n",
            "Epoch 1/120\n",
            "15/15 [==============================] - 123s 8s/step - loss: 0.8587 - accuracy: 0.5547\n",
            "Epoch 2/120\n",
            "15/15 [==============================] - 119s 8s/step - loss: 0.7355 - accuracy: 0.6053\n",
            "Epoch 3/120\n",
            "15/15 [==============================] - 119s 8s/step - loss: 0.6945 - accuracy: 0.6386\n",
            "Epoch 4/120\n",
            "15/15 [==============================] - 120s 8s/step - loss: 0.6718 - accuracy: 0.6544\n",
            "Epoch 5/120\n",
            "15/15 [==============================] - 119s 8s/step - loss: 0.6612 - accuracy: 0.6477\n",
            "Epoch 6/120\n",
            "15/15 [==============================] - 120s 8s/step - loss: 0.6453 - accuracy: 0.6752\n",
            "Epoch 7/120\n",
            "15/15 [==============================] - 119s 8s/step - loss: 0.6238 - accuracy: 0.6899\n",
            "Epoch 8/120\n",
            "15/15 [==============================] - 120s 8s/step - loss: 0.6071 - accuracy: 0.6907\n",
            "Epoch 9/120\n",
            "15/15 [==============================] - 119s 8s/step - loss: 0.6172 - accuracy: 0.6872\n",
            "Epoch 10/120\n",
            "15/15 [==============================] - 119s 8s/step - loss: 0.6039 - accuracy: 0.7024\n",
            "Epoch 11/120\n",
            "15/15 [==============================] - 120s 8s/step - loss: 0.5984 - accuracy: 0.7016\n",
            "Epoch 12/120\n",
            "15/15 [==============================] - 119s 8s/step - loss: 0.5880 - accuracy: 0.7062\n",
            "Epoch 13/120\n",
            "15/15 [==============================] - 119s 8s/step - loss: 0.5799 - accuracy: 0.7128\n",
            "Epoch 14/120\n",
            "15/15 [==============================] - 119s 8s/step - loss: 0.5761 - accuracy: 0.7147\n",
            "Epoch 15/120\n",
            "15/15 [==============================] - 119s 8s/step - loss: 0.5655 - accuracy: 0.7200\n",
            "Epoch 16/120\n",
            "15/15 [==============================] - 119s 8s/step - loss: 0.5812 - accuracy: 0.7160\n",
            "Epoch 17/120\n",
            "15/15 [==============================] - 119s 8s/step - loss: 0.5444 - accuracy: 0.7243\n",
            "Epoch 18/120\n",
            "15/15 [==============================] - 119s 8s/step - loss: 0.5642 - accuracy: 0.7240\n",
            "Epoch 19/120\n",
            "15/15 [==============================] - 119s 8s/step - loss: 0.5507 - accuracy: 0.7262\n",
            "Epoch 20/120\n",
            "15/15 [==============================] - 119s 8s/step - loss: 0.5476 - accuracy: 0.7294\n",
            "Epoch 21/120\n",
            "15/15 [==============================] - 119s 8s/step - loss: 0.5396 - accuracy: 0.7315\n",
            "Epoch 22/120\n",
            "15/15 [==============================] - 119s 8s/step - loss: 0.5378 - accuracy: 0.7313\n",
            "Epoch 23/120\n",
            "15/15 [==============================] - 119s 8s/step - loss: 0.5366 - accuracy: 0.7425\n",
            "Epoch 24/120\n",
            "15/15 [==============================] - 120s 8s/step - loss: 0.5194 - accuracy: 0.7475\n",
            "Epoch 25/120\n",
            "15/15 [==============================] - 119s 8s/step - loss: 0.5165 - accuracy: 0.7534\n",
            "Epoch 26/120\n",
            "15/15 [==============================] - 120s 8s/step - loss: 0.5248 - accuracy: 0.7451\n",
            "Epoch 27/120\n",
            "15/15 [==============================] - 120s 8s/step - loss: 0.5088 - accuracy: 0.7489\n",
            "Epoch 28/120\n",
            "15/15 [==============================] - 119s 8s/step - loss: 0.5005 - accuracy: 0.7601\n",
            "Epoch 29/120\n",
            "15/15 [==============================] - 120s 8s/step - loss: 0.5034 - accuracy: 0.7537\n",
            "Epoch 30/120\n",
            "15/15 [==============================] - 120s 8s/step - loss: 0.4942 - accuracy: 0.7577\n",
            "Epoch 31/120\n",
            "15/15 [==============================] - 123s 8s/step - loss: 0.4967 - accuracy: 0.7595\n",
            "Epoch 32/120\n",
            "15/15 [==============================] - 120s 8s/step - loss: 0.4939 - accuracy: 0.7649\n",
            "Epoch 33/120\n",
            "15/15 [==============================] - 119s 8s/step - loss: 0.4850 - accuracy: 0.7748\n",
            "Epoch 34/120\n",
            "15/15 [==============================] - 119s 8s/step - loss: 0.4717 - accuracy: 0.7699\n",
            "Epoch 35/120\n",
            "15/15 [==============================] - 120s 8s/step - loss: 0.4758 - accuracy: 0.7785\n",
            "Epoch 36/120\n",
            "15/15 [==============================] - 119s 8s/step - loss: 0.4586 - accuracy: 0.7817\n",
            "Epoch 37/120\n",
            "15/15 [==============================] - 120s 8s/step - loss: 0.4608 - accuracy: 0.7828\n",
            "Epoch 38/120\n",
            "15/15 [==============================] - 119s 8s/step - loss: 0.4552 - accuracy: 0.7854\n",
            "Epoch 39/120\n",
            "15/15 [==============================] - 119s 8s/step - loss: 0.4450 - accuracy: 0.7902\n",
            "Epoch 40/120\n",
            "15/15 [==============================] - 120s 8s/step - loss: 0.4413 - accuracy: 0.7937\n",
            "Epoch 41/120\n",
            "15/15 [==============================] - 122s 8s/step - loss: 0.4400 - accuracy: 0.7930\n",
            "Epoch 42/120\n",
            "15/15 [==============================] - 119s 8s/step - loss: 0.4402 - accuracy: 0.7972\n",
            "Epoch 43/120\n",
            "15/15 [==============================] - 119s 8s/step - loss: 0.4265 - accuracy: 0.8012\n",
            "Epoch 44/120\n",
            "15/15 [==============================] - 120s 8s/step - loss: 0.4166 - accuracy: 0.8017\n",
            "Epoch 45/120\n",
            "15/15 [==============================] - 119s 8s/step - loss: 0.4151 - accuracy: 0.8167\n",
            "Epoch 46/120\n",
            "15/15 [==============================] - 120s 8s/step - loss: 0.4143 - accuracy: 0.8129\n",
            "Epoch 47/120\n",
            "15/15 [==============================] - 120s 8s/step - loss: 0.3771 - accuracy: 0.8281\n",
            "Epoch 48/120\n",
            "15/15 [==============================] - 123s 8s/step - loss: 0.3717 - accuracy: 0.8302\n",
            "Epoch 49/120\n",
            "15/15 [==============================] - 120s 8s/step - loss: 0.3834 - accuracy: 0.8263\n",
            "Epoch 50/120\n",
            "15/15 [==============================] - 119s 8s/step - loss: 0.3728 - accuracy: 0.8303\n",
            "Epoch 51/120\n",
            "15/15 [==============================] - 119s 8s/step - loss: 0.3791 - accuracy: 0.8273\n",
            "Epoch 52/120\n",
            "15/15 [==============================] - 119s 8s/step - loss: 0.3544 - accuracy: 0.8412\n",
            "Epoch 53/120\n",
            "15/15 [==============================] - 120s 8s/step - loss: 0.3370 - accuracy: 0.8516\n",
            "Epoch 54/120\n",
            "15/15 [==============================] - 120s 8s/step - loss: 0.3408 - accuracy: 0.8516\n",
            "Epoch 55/120\n",
            "15/15 [==============================] - 119s 8s/step - loss: 0.3376 - accuracy: 0.8527\n",
            "Epoch 56/120\n",
            "15/15 [==============================] - 120s 8s/step - loss: 0.3369 - accuracy: 0.8487\n",
            "Epoch 57/120\n",
            "15/15 [==============================] - 120s 8s/step - loss: 0.3163 - accuracy: 0.8636\n",
            "Epoch 58/120\n",
            "15/15 [==============================] - 119s 8s/step - loss: 0.3214 - accuracy: 0.8639\n",
            "Epoch 59/120\n",
            "15/15 [==============================] - 119s 8s/step - loss: 0.3123 - accuracy: 0.8655\n",
            "Epoch 60/120\n",
            "15/15 [==============================] - 120s 8s/step - loss: 0.2837 - accuracy: 0.8831\n",
            "Epoch 61/120\n",
            "15/15 [==============================] - 120s 8s/step - loss: 0.2810 - accuracy: 0.8807\n",
            "Epoch 62/120\n",
            "15/15 [==============================] - 119s 8s/step - loss: 0.2814 - accuracy: 0.8852\n",
            "Epoch 63/120\n",
            "15/15 [==============================] - 119s 8s/step - loss: 0.2695 - accuracy: 0.8855\n",
            "Epoch 64/120\n",
            "15/15 [==============================] - 119s 8s/step - loss: 0.2576 - accuracy: 0.8924\n",
            "Epoch 65/120\n",
            "15/15 [==============================] - 119s 8s/step - loss: 0.2457 - accuracy: 0.8970\n",
            "Epoch 66/120\n",
            "15/15 [==============================] - 119s 8s/step - loss: 0.2373 - accuracy: 0.8999\n",
            "Epoch 67/120\n",
            "15/15 [==============================] - 119s 8s/step - loss: 0.2290 - accuracy: 0.9093\n",
            "Epoch 68/120\n",
            "15/15 [==============================] - 119s 8s/step - loss: 0.2449 - accuracy: 0.8954\n",
            "Epoch 69/120\n",
            "15/15 [==============================] - 119s 8s/step - loss: 0.2337 - accuracy: 0.9093\n",
            "Epoch 70/120\n",
            "15/15 [==============================] - 119s 8s/step - loss: 0.2256 - accuracy: 0.9082\n",
            "Epoch 71/120\n",
            "15/15 [==============================] - 119s 8s/step - loss: 0.2232 - accuracy: 0.9095\n",
            "Epoch 72/120\n",
            "15/15 [==============================] - 119s 8s/step - loss: 0.2147 - accuracy: 0.9079\n",
            "Epoch 73/120\n",
            "15/15 [==============================] - 119s 8s/step - loss: 0.1944 - accuracy: 0.9205\n",
            "Epoch 74/120\n",
            "15/15 [==============================] - 119s 8s/step - loss: 0.2014 - accuracy: 0.9178\n",
            "Epoch 75/120\n",
            "15/15 [==============================] - 119s 8s/step - loss: 0.2021 - accuracy: 0.9197\n",
            "Epoch 76/120\n",
            "15/15 [==============================] - 118s 8s/step - loss: 0.1948 - accuracy: 0.9223\n",
            "Epoch 77/120\n",
            "15/15 [==============================] - 119s 8s/step - loss: 0.1990 - accuracy: 0.9205\n",
            "Epoch 78/120\n",
            "15/15 [==============================] - 119s 8s/step - loss: 0.1719 - accuracy: 0.9381\n",
            "Epoch 79/120\n",
            "15/15 [==============================] - 119s 8s/step - loss: 0.1685 - accuracy: 0.9314\n",
            "Epoch 80/120\n",
            "15/15 [==============================] - 119s 8s/step - loss: 0.1664 - accuracy: 0.9317\n",
            "Epoch 81/120\n",
            "15/15 [==============================] - 123s 8s/step - loss: 0.1634 - accuracy: 0.9357\n",
            "Epoch 82/120\n",
            "15/15 [==============================] - 123s 8s/step - loss: 0.1417 - accuracy: 0.9469\n",
            "Epoch 83/120\n",
            "15/15 [==============================] - 119s 8s/step - loss: 0.1519 - accuracy: 0.9408\n",
            "Epoch 84/120\n",
            "15/15 [==============================] - 119s 8s/step - loss: 0.1401 - accuracy: 0.9464\n",
            "Epoch 85/120\n",
            "15/15 [==============================] - 119s 8s/step - loss: 0.1586 - accuracy: 0.9341\n",
            "Epoch 86/120\n",
            "15/15 [==============================] - 122s 8s/step - loss: 0.1377 - accuracy: 0.9440\n",
            "Epoch 87/120\n",
            "15/15 [==============================] - 119s 8s/step - loss: 0.1353 - accuracy: 0.9437\n",
            "Epoch 88/120\n",
            "15/15 [==============================] - 123s 8s/step - loss: 0.1262 - accuracy: 0.9498\n",
            "Epoch 89/120\n",
            "15/15 [==============================] - 119s 8s/step - loss: 0.1266 - accuracy: 0.9520\n",
            "Epoch 90/120\n",
            "15/15 [==============================] - 120s 8s/step - loss: 0.1243 - accuracy: 0.9509\n",
            "Epoch 91/120\n",
            "15/15 [==============================] - 119s 8s/step - loss: 0.1175 - accuracy: 0.9536\n",
            "Epoch 92/120\n",
            "15/15 [==============================] - 119s 8s/step - loss: 0.1155 - accuracy: 0.9536\n",
            "Epoch 93/120\n",
            "15/15 [==============================] - 119s 8s/step - loss: 0.1221 - accuracy: 0.9525\n",
            "Epoch 94/120\n",
            "15/15 [==============================] - 119s 8s/step - loss: 0.1098 - accuracy: 0.9578\n",
            "Epoch 95/120\n",
            "15/15 [==============================] - 119s 8s/step - loss: 0.1048 - accuracy: 0.9605\n",
            "Epoch 96/120\n",
            "15/15 [==============================] - 119s 8s/step - loss: 0.1030 - accuracy: 0.9600\n",
            "Epoch 97/120\n",
            "15/15 [==============================] - 122s 8s/step - loss: 0.1019 - accuracy: 0.9602\n",
            "Epoch 98/120\n",
            "15/15 [==============================] - 119s 8s/step - loss: 0.0938 - accuracy: 0.9637\n",
            "Epoch 99/120\n",
            "15/15 [==============================] - 119s 8s/step - loss: 0.0959 - accuracy: 0.9613\n",
            "Epoch 100/120\n",
            "15/15 [==============================] - 119s 8s/step - loss: 0.0864 - accuracy: 0.9672\n",
            "Epoch 101/120\n",
            "15/15 [==============================] - 119s 8s/step - loss: 0.0893 - accuracy: 0.9672\n",
            "Epoch 102/120\n",
            "15/15 [==============================] - 120s 8s/step - loss: 0.0756 - accuracy: 0.9722\n",
            "Epoch 103/120\n",
            "15/15 [==============================] - 119s 8s/step - loss: 0.0894 - accuracy: 0.9653\n",
            "Epoch 104/120\n",
            "15/15 [==============================] - 120s 8s/step - loss: 0.0812 - accuracy: 0.9712\n",
            "Epoch 105/120\n",
            "15/15 [==============================] - 120s 8s/step - loss: 0.0671 - accuracy: 0.9749\n",
            "Epoch 106/120\n",
            "15/15 [==============================] - 119s 8s/step - loss: 0.0817 - accuracy: 0.9717\n",
            "Epoch 107/120\n",
            "15/15 [==============================] - 119s 8s/step - loss: 0.0849 - accuracy: 0.9701\n",
            "Epoch 108/120\n",
            "15/15 [==============================] - 119s 8s/step - loss: 0.0790 - accuracy: 0.9685\n",
            "Epoch 109/120\n",
            "15/15 [==============================] - 119s 8s/step - loss: 0.0808 - accuracy: 0.9669\n",
            "Epoch 110/120\n",
            "15/15 [==============================] - 119s 8s/step - loss: 0.0667 - accuracy: 0.9752\n",
            "Epoch 111/120\n",
            "15/15 [==============================] - 119s 8s/step - loss: 0.0705 - accuracy: 0.9730\n",
            "Epoch 112/120\n",
            "15/15 [==============================] - 119s 8s/step - loss: 0.0769 - accuracy: 0.9704\n",
            "Epoch 113/120\n",
            "15/15 [==============================] - 119s 8s/step - loss: 0.0614 - accuracy: 0.9757\n",
            "Epoch 114/120\n",
            "15/15 [==============================] - 119s 8s/step - loss: 0.0653 - accuracy: 0.9760\n",
            "Epoch 115/120\n",
            "15/15 [==============================] - 122s 8s/step - loss: 0.0624 - accuracy: 0.9763\n",
            "Epoch 116/120\n",
            "15/15 [==============================] - 119s 8s/step - loss: 0.0596 - accuracy: 0.9797\n",
            "Epoch 117/120\n",
            "15/15 [==============================] - 119s 8s/step - loss: 0.0577 - accuracy: 0.9778\n",
            "Epoch 118/120\n",
            "15/15 [==============================] - 119s 8s/step - loss: 0.0565 - accuracy: 0.9781\n",
            "Epoch 119/120\n",
            "15/15 [==============================] - 122s 8s/step - loss: 0.0596 - accuracy: 0.9792\n",
            "Epoch 120/120\n",
            "15/15 [==============================] - 123s 8s/step - loss: 0.0577 - accuracy: 0.9784\n"
          ],
          "name": "stdout"
        }
      ]
    },
    {
      "cell_type": "code",
      "metadata": {
        "id": "ybcLMkxJmYI5",
        "colab": {
          "base_uri": "https://localhost:8080/",
          "height": 663
        },
        "outputId": "1b662625-0d8a-40e4-a397-d2357c8eb0a6"
      },
      "source": [
        "plt.figure(figsize=(20,10))\n",
        "plt.subplot(1, 2, 1)\n",
        "plt.suptitle('Optimizer : Adam', fontsize=20)\n",
        "plt.ylabel('Loss', fontsize=16)\n",
        "plt.plot(history.history['loss'], label='Training Loss')\n",
        "#plt.plot(history.history['val_loss'], label='Validation Loss')\n",
        "plt.legend(loc='upper right')\n",
        "#########################################################################\n",
        "plt.subplot(1, 2, 2)\n",
        "plt.ylabel('Accuracy', fontsize=16)\n",
        "plt.plot(history.history['accuracy'], label='Training Accuracy')\n",
        "#plt.plot(history.history['val_acc'], label='Validation Accuracy')\n",
        "plt.legend(loc='lower right')\n",
        "plt.show()"
      ],
      "execution_count": 39,
      "outputs": [
        {
          "output_type": "display_data",
          "data": {
            "image/png": "[encoded data removed]",
            "text/plain": [
              "<Figure size 1440x720 with 2 Axes>"
            ]
          },
          "metadata": {
            "tags": [],
            "needs_background": "light"
          }
        }
      ]
    },
    {
      "cell_type": "code",
      "metadata": {
        "id": "FPWKxb4m86k6"
      },
      "source": [
        "# 1. Authenticate and create the PyDrive client.\n",
        "auth.authenticate_user()\n",
        "gauth = GoogleAuth()\n",
        "gauth.credentials = GoogleCredentials.get_application_default()\n",
        "drive = GoogleDrive(gauth)"
      ],
      "execution_count": 40,
      "outputs": []
    },
    {
      "cell_type": "code",
      "metadata": {
        "id": "alvygtxOA0j8",
        "colab": {
          "base_uri": "https://localhost:8080/",
          "height": 356
        },
        "outputId": "c703c0ef-65cd-49a9-e23f-980e97f614c8"
      },
      "source": [
        "# create on Colab directory\n",
        "model.save('model.h5')   \n",
        "\n",
        "#Saving in DRIVE\n",
        "#From Deep attention\n",
        "\n",
        "model_file = drive.CreateFile({'title' : 'model.h5'})\n",
        "model_file.SetContentFile('model1.h5')\n",
        "model_file.Upload()"
      ],
      "execution_count": 43,
      "outputs": [
        {
          "output_type": "error",
          "ename": "FileNotFoundError",
          "evalue": "ignored",
          "traceback": [
            "\u001b[0;31m---------------------------------------------------------------------------\u001b[0m",
            "\u001b[0;31mFileNotFoundError\u001b[0m                         Traceback (most recent call last)",
            "\u001b[0;32m<ipython-input-43-619c6f591d9d>\u001b[0m in \u001b[0;36m<module>\u001b[0;34m()\u001b[0m\n\u001b[1;32m      6\u001b[0m \u001b[0;34m\u001b[0m\u001b[0m\n\u001b[1;32m      7\u001b[0m \u001b[0mmodel_file\u001b[0m \u001b[0;34m=\u001b[0m \u001b[0mdrive\u001b[0m\u001b[0;34m.\u001b[0m\u001b[0mCreateFile\u001b[0m\u001b[0;34m(\u001b[0m\u001b[0;34m{\u001b[0m\u001b[0;34m'title'\u001b[0m \u001b[0;34m:\u001b[0m \u001b[0;34m'model.h5'\u001b[0m\u001b[0;34m}\u001b[0m\u001b[0;34m)\u001b[0m\u001b[0;34m\u001b[0m\u001b[0;34m\u001b[0m\u001b[0m\n\u001b[0;32m----> 8\u001b[0;31m \u001b[0mmodel_file\u001b[0m\u001b[0;34m.\u001b[0m\u001b[0mSetContentFile\u001b[0m\u001b[0;34m(\u001b[0m\u001b[0;34m'model1.h5'\u001b[0m\u001b[0;34m)\u001b[0m\u001b[0;34m\u001b[0m\u001b[0;34m\u001b[0m\u001b[0m\n\u001b[0m\u001b[1;32m      9\u001b[0m \u001b[0mmodel_file\u001b[0m\u001b[0;34m.\u001b[0m\u001b[0mUpload\u001b[0m\u001b[0;34m(\u001b[0m\u001b[0;34m)\u001b[0m\u001b[0;34m\u001b[0m\u001b[0;34m\u001b[0m\u001b[0m\n",
            "\u001b[0;32m/usr/local/lib/python3.6/dist-packages/pydrive/files.py\u001b[0m in \u001b[0;36mSetContentFile\u001b[0;34m(self, filename)\u001b[0m\n\u001b[1;32m    167\u001b[0m     \u001b[0;34m:\u001b[0m\u001b[0mtype\u001b[0m \u001b[0mfilename\u001b[0m\u001b[0;34m:\u001b[0m \u001b[0mstr\u001b[0m\u001b[0;34m.\u001b[0m\u001b[0;34m\u001b[0m\u001b[0;34m\u001b[0m\u001b[0m\n\u001b[1;32m    168\u001b[0m     \"\"\"\n\u001b[0;32m--> 169\u001b[0;31m     \u001b[0mself\u001b[0m\u001b[0;34m.\u001b[0m\u001b[0mcontent\u001b[0m \u001b[0;34m=\u001b[0m \u001b[0mopen\u001b[0m\u001b[0;34m(\u001b[0m\u001b[0mfilename\u001b[0m\u001b[0;34m,\u001b[0m \u001b[0;34m'rb'\u001b[0m\u001b[0;34m)\u001b[0m\u001b[0;34m\u001b[0m\u001b[0;34m\u001b[0m\u001b[0m\n\u001b[0m\u001b[1;32m    170\u001b[0m     \u001b[0;32mif\u001b[0m \u001b[0mself\u001b[0m\u001b[0;34m.\u001b[0m\u001b[0mget\u001b[0m\u001b[0;34m(\u001b[0m\u001b[0;34m'title'\u001b[0m\u001b[0;34m)\u001b[0m \u001b[0;32mis\u001b[0m \u001b[0;32mNone\u001b[0m\u001b[0;34m:\u001b[0m\u001b[0;34m\u001b[0m\u001b[0;34m\u001b[0m\u001b[0m\n\u001b[1;32m    171\u001b[0m       \u001b[0mself\u001b[0m\u001b[0;34m[\u001b[0m\u001b[0;34m'title'\u001b[0m\u001b[0;34m]\u001b[0m \u001b[0;34m=\u001b[0m \u001b[0mfilename\u001b[0m\u001b[0;34m\u001b[0m\u001b[0;34m\u001b[0m\u001b[0m\n",
            "\u001b[0;31mFileNotFoundError\u001b[0m: [Errno 2] No such file or directory: 'model1.h5'"
          ]
        }
      ]
    },
    {
      "cell_type": "code",
      "metadata": {
        "colab": {
          "base_uri": "https://localhost:8080/",
          "height": 374
        },
        "id": "fh3FZWSNSlsc",
        "outputId": "131553cc-d829-472e-a7e9-cd45b850213e"
      },
      "source": [
        "# Install the PyDrive wrapper & import libraries.\r\n",
        "# This only needs to be done once in a notebook.\r\n",
        "!pip install -U -q PyDrive\r\n",
        "from pydrive.auth import GoogleAuth\r\n",
        "from pydrive.drive import GoogleDrive\r\n",
        "from google.colab import auth\r\n",
        "from oauth2client.client import GoogleCredentials\r\n",
        "\r\n",
        "# Authenticate and create the PyDrive client.\r\n",
        "# This only needs to be done once in a notebook.\r\n",
        "auth.authenticate_user()\r\n",
        "gauth = GoogleAuth()\r\n",
        "gauth.credentials = GoogleCredentials.get_application_default()\r\n",
        "drive = GoogleDrive(gauth)\r\n",
        "\r\n",
        "# Create & upload a file.\r\n",
        "uploaded = drive.CreateFile({'title': '.h5'})\r\n",
        "uploaded.SetContentFile('model1.h5')\r\n",
        "uploaded.Upload()\r\n",
        "print('Uploaded file with ID {}'.format(uploaded.get('id')))"
      ],
      "execution_count": 46,
      "outputs": [
        {
          "output_type": "error",
          "ename": "FileNotFoundError",
          "evalue": "ignored",
          "traceback": [
            "\u001b[0;31m---------------------------------------------------------------------------\u001b[0m",
            "\u001b[0;31mFileNotFoundError\u001b[0m                         Traceback (most recent call last)",
            "\u001b[0;32m<ipython-input-46-3a0658e71661>\u001b[0m in \u001b[0;36m<module>\u001b[0;34m()\u001b[0m\n\u001b[1;32m     16\u001b[0m \u001b[0;31m# Create & upload a file.\u001b[0m\u001b[0;34m\u001b[0m\u001b[0;34m\u001b[0m\u001b[0;34m\u001b[0m\u001b[0m\n\u001b[1;32m     17\u001b[0m \u001b[0muploaded\u001b[0m \u001b[0;34m=\u001b[0m \u001b[0mdrive\u001b[0m\u001b[0;34m.\u001b[0m\u001b[0mCreateFile\u001b[0m\u001b[0;34m(\u001b[0m\u001b[0;34m{\u001b[0m\u001b[0;34m'title'\u001b[0m\u001b[0;34m:\u001b[0m \u001b[0;34m'.h5'\u001b[0m\u001b[0;34m}\u001b[0m\u001b[0;34m)\u001b[0m\u001b[0;34m\u001b[0m\u001b[0;34m\u001b[0m\u001b[0m\n\u001b[0;32m---> 18\u001b[0;31m \u001b[0muploaded\u001b[0m\u001b[0;34m.\u001b[0m\u001b[0mSetContentFile\u001b[0m\u001b[0;34m(\u001b[0m\u001b[0;34m'model1.h5'\u001b[0m\u001b[0;34m)\u001b[0m\u001b[0;34m\u001b[0m\u001b[0;34m\u001b[0m\u001b[0m\n\u001b[0m\u001b[1;32m     19\u001b[0m \u001b[0muploaded\u001b[0m\u001b[0;34m.\u001b[0m\u001b[0mUpload\u001b[0m\u001b[0;34m(\u001b[0m\u001b[0;34m)\u001b[0m\u001b[0;34m\u001b[0m\u001b[0;34m\u001b[0m\u001b[0m\n\u001b[1;32m     20\u001b[0m \u001b[0mprint\u001b[0m\u001b[0;34m(\u001b[0m\u001b[0;34m'Uploaded file with ID {}'\u001b[0m\u001b[0;34m.\u001b[0m\u001b[0mformat\u001b[0m\u001b[0;34m(\u001b[0m\u001b[0muploaded\u001b[0m\u001b[0;34m.\u001b[0m\u001b[0mget\u001b[0m\u001b[0;34m(\u001b[0m\u001b[0;34m'id'\u001b[0m\u001b[0;34m)\u001b[0m\u001b[0;34m)\u001b[0m\u001b[0;34m)\u001b[0m\u001b[0;34m\u001b[0m\u001b[0;34m\u001b[0m\u001b[0m\n",
            "\u001b[0;32m/usr/local/lib/python3.6/dist-packages/pydrive/files.py\u001b[0m in \u001b[0;36mSetContentFile\u001b[0;34m(self, filename)\u001b[0m\n\u001b[1;32m    167\u001b[0m     \u001b[0;34m:\u001b[0m\u001b[0mtype\u001b[0m \u001b[0mfilename\u001b[0m\u001b[0;34m:\u001b[0m \u001b[0mstr\u001b[0m\u001b[0;34m.\u001b[0m\u001b[0;34m\u001b[0m\u001b[0;34m\u001b[0m\u001b[0m\n\u001b[1;32m    168\u001b[0m     \"\"\"\n\u001b[0;32m--> 169\u001b[0;31m     \u001b[0mself\u001b[0m\u001b[0;34m.\u001b[0m\u001b[0mcontent\u001b[0m \u001b[0;34m=\u001b[0m \u001b[0mopen\u001b[0m\u001b[0;34m(\u001b[0m\u001b[0mfilename\u001b[0m\u001b[0;34m,\u001b[0m \u001b[0;34m'rb'\u001b[0m\u001b[0;34m)\u001b[0m\u001b[0;34m\u001b[0m\u001b[0;34m\u001b[0m\u001b[0m\n\u001b[0m\u001b[1;32m    170\u001b[0m     \u001b[0;32mif\u001b[0m \u001b[0mself\u001b[0m\u001b[0;34m.\u001b[0m\u001b[0mget\u001b[0m\u001b[0;34m(\u001b[0m\u001b[0;34m'title'\u001b[0m\u001b[0;34m)\u001b[0m \u001b[0;32mis\u001b[0m \u001b[0;32mNone\u001b[0m\u001b[0;34m:\u001b[0m\u001b[0;34m\u001b[0m\u001b[0;34m\u001b[0m\u001b[0m\n\u001b[1;32m    171\u001b[0m       \u001b[0mself\u001b[0m\u001b[0;34m[\u001b[0m\u001b[0;34m'title'\u001b[0m\u001b[0;34m]\u001b[0m \u001b[0;34m=\u001b[0m \u001b[0mfilename\u001b[0m\u001b[0;34m\u001b[0m\u001b[0;34m\u001b[0m\u001b[0m\n",
            "\u001b[0;31mFileNotFoundError\u001b[0m: [Errno 2] No such file or directory: 'model1.h5'"
          ]
        }
      ]
    },
    {
      "cell_type": "code",
      "metadata": {
        "id": "0QQf68h2KHUU"
      },
      "source": [
        "new_model = load_model('model.h5')"
      ],
      "execution_count": null,
      "outputs": []
    },
    {
      "cell_type": "code",
      "metadata": {
        "id": "QcGWCpOYKHcU"
      },
      "source": [
        "model_test = keras.models.load_model(\"model.h5\")"
      ],
      "execution_count": null,
      "outputs": []
    },
    {
      "cell_type": "code",
      "metadata": {
        "id": "FouaLoIPA0me"
      },
      "source": [
        "# download to google drive\n",
        "#drive.CreateFile({'id': model_file.get('id')})"
      ],
      "execution_count": null,
      "outputs": []
    },
    {
      "cell_type": "code",
      "metadata": {
        "id": "J13ZZmLXA0o6"
      },
      "source": [
        "#model.save_weights('model_weights.h5')\n",
        "#weights_file = drive.CreateFile({'title' : 'model_weights.h5'})\n",
        "#weights_file.SetContentFile('model_weights.h5')\n",
        "#weights_file.Upload()\n",
        "#drive.CreateFile({'id': weights_file.get('id')})"
      ],
      "execution_count": null,
      "outputs": []
    },
    {
      "cell_type": "code",
      "metadata": {
        "id": "I-TySZpxA0t2"
      },
      "source": [
        "# 3. reload weights from google drive into the model\n",
        "\n",
        "# use (get shareable link) to get file id\n",
        "#last_weight_file = drive.CreateFile({'id': '1i_6BpxqgNbMjmbw6ML1mnBjoYi_LuO4Y'}) \n",
        "#last_weight_file.GetContentFile('last_weights.mat')\n",
        "#model.load_weights('last_weights.mat')"
      ],
      "execution_count": null,
      "outputs": []
    },
    {
      "cell_type": "code",
      "metadata": {
        "id": "JlmEi10JDalf"
      },
      "source": [
        "#new_model.summary()"
      ],
      "execution_count": null,
      "outputs": []
    },
    {
      "cell_type": "code",
      "metadata": {
        "id": "ONIFMV7CDaow"
      },
      "source": [
        "#new_model.get_weights()"
      ],
      "execution_count": null,
      "outputs": []
    },
    {
      "cell_type": "code",
      "metadata": {
        "id": "YQjWOqWCDas4"
      },
      "source": [
        "#json_string = model.to_json()\n",
        "#yaml_string = model.to_yaml()\n",
        "#from keras.models import model_from_json\n",
        "#model_architecture = model_from_json(json_string)\n",
        "#model_architecture.summary()"
      ],
      "execution_count": null,
      "outputs": []
    },
    {
      "cell_type": "code",
      "metadata": {
        "id": "XCsEa5yeDayt"
      },
      "source": [
        "#model.save_weights('my_model_weights.h5')\n",
        "#Go to deeplizard"
      ],
      "execution_count": null,
      "outputs": []
    }
  ]
}