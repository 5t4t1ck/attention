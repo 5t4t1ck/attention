{
  "nbformat": 4,
  "nbformat_minor": 0,
  "metadata": {
    "colab": {
      "name": "Attentionv8",
      "provenance": [],
      "collapsed_sections": [],
      "include_colab_link": true
    },
    "kernelspec": {
      "name": "python3",
      "display_name": "Python 3"
    },
    "accelerator": "TPU"
  },
  "cells": [
    {
      "cell_type": "markdown",
      "metadata": {
        "id": "view-in-github",
        "colab_type": "text"
      },
      "source": [
        "<a href=\"https://colab.research.google.com/github/5t4t1ck/attention/blob/main/Attentionv8.ipynb\" target=\"_parent\"><img src=\"https://colab.research.google.com/assets/colab-badge.svg\" alt=\"Open In Colab\"/></a>"
      ]
    },
    {
      "cell_type": "code",
      "metadata": {
        "id": "SKhk6XW1IaVg"
      },
      "source": [
        "#import tensorflow\n",
        "from tensorflow.keras.preprocessing.image import ImageDataGenerator\n",
        "from keras.layers import Dense\n",
        "from keras.layers import Dropout,Input\n",
        "from keras.layers import Flatten\n",
        "from keras.layers import Conv2D\n",
        "from keras.layers import MaxPooling2D\n",
        "from keras.layers import BatchNormalization\n",
        "from keras.layers import Activation\n",
        "from keras.models import Model,Sequential\n",
        "from keras.optimizers import Adam\n",
        "from keras.preprocessing.image import load_img,img_to_array\n",
        "from keras.models import load_model\n",
        "from keras.preprocessing.image import ImageDataGenerator\n",
        "import matplotlib.pyplot as plt\n",
        "import os\n",
        "import zipfile\n",
        "from google.colab import drive\n",
        "!pip install -U -q PyDrive\n",
        "from pydrive.auth import GoogleAuth\n",
        "from pydrive.drive import GoogleDrive\n",
        "from google.colab import auth\n",
        "from oauth2client.client import GoogleCredentials"
      ],
      "execution_count": 2,
      "outputs": []
    },
    {
      "cell_type": "code",
      "metadata": {
        "id": "mPPzjIIZIhWh",
        "colab": {
          "base_uri": "https://localhost:8080/"
        },
        "outputId": "57042088-708f-4ee0-901c-907c5865fe46"
      },
      "source": [
        "drive.mount('/content/drive')"
      ],
      "execution_count": 3,
      "outputs": [
        {
          "output_type": "stream",
          "text": [
            "Drive already mounted at /content/drive; to attempt to forcibly remount, call drive.mount(\"/content/drive\", force_remount=True).\n"
          ],
          "name": "stdout"
        }
      ]
    },
    {
      "cell_type": "code",
      "metadata": {
        "id": "CHpXTl9eIh03"
      },
      "source": [
        "local_zip = 'drive/My Drive/Attention/attention.zip'\n",
        "zip_ref = zipfile.ZipFile(local_zip, 'r')\n",
        "zip_ref.extractall('/tmp/attention')\n",
        "zip_ref.close()"
      ],
      "execution_count": 4,
      "outputs": []
    },
    {
      "cell_type": "code",
      "metadata": {
        "id": "r2kc4qhNIhx7"
      },
      "source": [
        "base_dir = '/tmp/attention/data/'\n",
        "train_dir = os.path.join(base_dir)\n",
        "\n",
        "train_Atento = os.path.join('/tmp/attention/data/atento')\n",
        "train_Desatento = os.path.join('/tmp/attention/data/desatento')"
      ],
      "execution_count": 5,
      "outputs": []
    },
    {
      "cell_type": "code",
      "metadata": {
        "id": "MAFChfJSIhvw",
        "colab": {
          "base_uri": "https://localhost:8080/"
        },
        "outputId": "7870482d-ff18-4e51-f2b3-2fc16e7f539c"
      },
      "source": [
        "train_Atento_names = os.listdir(train_Atento)\n",
        "print(train_Atento_names[:10])\n",
        "\n",
        "train_Desatento_names = os.listdir(train_Desatento)\n",
        "print(train_Desatento_names[:10])"
      ],
      "execution_count": 6,
      "outputs": [
        {
          "output_type": "stream",
          "text": [
            "['attention15656.jpg', 'attention13904.jpg', 'attention16039.jpg', 'attention15467.jpg', 'attention15970.jpg', 'attention15288.jpg', 'attention16143.jpg', 'attention15782.jpg', 'attention15421.jpg', 'attention15630.jpg']\n",
            "['desatencion275681.jpg', 'attention32245.jpg', 'attention31818.jpg', 'attention36284.jpg', 'attention34726.jpg', 'attention31542.jpg', 'attention32146.jpg', 'attention36669.jpg', 'attention33601.jpg', 'desatencion275729.jpg']\n"
          ],
          "name": "stdout"
        }
      ]
    },
    {
      "cell_type": "code",
      "metadata": {
        "id": "3kZGJqfTzDVR",
        "colab": {
          "base_uri": "https://localhost:8080/"
        },
        "outputId": "e52c2488-ae4d-4076-f128-9251a2003fd1"
      },
      "source": [
        "print('total training Atento images :', len(os.listdir(train_Atento)))\n",
        "print('total training Desatento images :', len(os.listdir(train_Desatento)))"
      ],
      "execution_count": 7,
      "outputs": [
        {
          "output_type": "stream",
          "text": [
            "total training Atento images : 2002\n",
            "total training Desatento images : 2001\n"
          ],
          "name": "stdout"
        }
      ]
    },
    {
      "cell_type": "code",
      "metadata": {
        "id": "QelsUcshIhoP",
        "colab": {
          "base_uri": "https://localhost:8080/"
        },
        "outputId": "84027e9a-b64d-4d51-e97f-759fd1943171"
      },
      "source": [
        "for attention in os.listdir(base_dir):\n",
        "    #['Atento', 'Desatento']\n",
        "    #print(str(len(os.listdir(base_dir))))\n",
        "    print(str(len(os.listdir(base_dir + attention))) + \" \" + attention +\" images\")"
      ],
      "execution_count": 8,
      "outputs": [
        {
          "output_type": "stream",
          "text": [
            "2001 desatento images\n",
            "2002 atento images\n"
          ],
          "name": "stdout"
        }
      ]
    },
    {
      "cell_type": "code",
      "metadata": {
        "id": "73dC7ThVIhmE",
        "colab": {
          "base_uri": "https://localhost:8080/",
          "height": 191
        },
        "outputId": "980a1349-5457-47a8-db6d-a4fd651a05a0"
      },
      "source": [
        "# size of the image: 48*48 pixels\n",
        "pic_size = 48\n",
        "\n",
        "plt.figure(0, figsize=(12,20))\n",
        "cpt = 0\n",
        "\n",
        "for expression in os.listdir(base_dir):\n",
        "    for i in range(1,3):\n",
        "        cpt = cpt + 1\n",
        "        plt.subplot(7,5,cpt)\n",
        "        img = load_img(base_dir + attention + \"/\" +os.listdir(base_dir + attention)[i], target_size=(pic_size, pic_size))\n",
        "        plt.imshow(img, cmap=\"gray\")\n",
        "\n",
        "plt.tight_layout()\n",
        "plt.show()"
      ],
      "execution_count": 9,
      "outputs": [
        {
          "output_type": "display_data",
          "data": {
            "image/png": "[encoded data removed]",
            "text/plain": [
              "<Figure size 864x1440 with 4 Axes>"
            ]
          },
          "metadata": {
            "tags": [],
            "needs_background": "light"
          }
        }
      ]
    },
    {
      "cell_type": "code",
      "metadata": {
        "id": "G6xkU2itIhja",
        "colab": {
          "base_uri": "https://localhost:8080/"
        },
        "outputId": "a706302b-52c7-4064-de7f-8af394c2b600"
      },
      "source": [
        "\n",
        "# number of images to feed into the NN for every batch\n",
        "batch_size = 256\n",
        "\n",
        "datagen_train = ImageDataGenerator()\n",
        "#datagen_validation = ImageDataGenerator()\n",
        "train_generator = datagen_train.flow_from_directory(base_dir,\n",
        "                                                    target_size=(pic_size,pic_size),\n",
        "                                                    color_mode=\"grayscale\",\n",
        "                                                    batch_size=batch_size,\n",
        "                                                    class_mode='categorical',\n",
        "                                                    shuffle=True)"
      ],
      "execution_count": 10,
      "outputs": [
        {
          "output_type": "stream",
          "text": [
            "Found 4003 images belonging to 2 classes.\n"
          ],
          "name": "stdout"
        }
      ]
    },
    {
      "cell_type": "code",
      "metadata": {
        "id": "0c9Dmm_0Ihfq"
      },
      "source": [
        "#No. of possible label values\n",
        "nb_classes = 2\n",
        "#Initialising the CNN\n",
        "model = Sequential()\n",
        "#1\n",
        "model.add(Conv2D(64,(3,3), padding = 'same', input_shape = (48,48,1)))\n",
        "model.add(BatchNormalization())\n",
        "model.add(Activation('relu'))\n",
        "model.add(MaxPooling2D(pool_size = (2,2)))\n",
        "model.add(Dropout(0.25))\n",
        "\n",
        "#2\n",
        "model.add(Conv2D(128,(5,5), padding = 'same'))\n",
        "model.add(BatchNormalization())\n",
        "model.add(Activation('relu'))\n",
        "model.add(MaxPooling2D(pool_size = (2,2)))\n",
        "model.add(Dropout(0.25))\n",
        "\n",
        "#3\n",
        "model.add(Conv2D(512,(3,3), padding = 'same'))\n",
        "model.add(BatchNormalization())\n",
        "model.add(Activation('relu'))\n",
        "model.add(MaxPooling2D(pool_size = (2,2)))\n",
        "model.add(Dropout(0.25))\n",
        "\n",
        "#4\n",
        "model.add(Conv2D(64,(3,3), padding = 'same'))\n",
        "model.add(BatchNormalization())\n",
        "model.add(Activation('relu'))\n",
        "model.add(MaxPooling2D(pool_size = (2,2)))\n",
        "model.add(Dropout(0.25))\n",
        "\n",
        "#Flattening\n",
        "model.add(Flatten())\n",
        "\n",
        "#Full connected layer 1\n",
        "model.add(Dense(256))\n",
        "model.add(BatchNormalization())\n",
        "model.add(Activation('relu'))\n",
        "model.add(Dropout(0.25))\n",
        "\n",
        "#Full connected layer 2\n",
        "model.add(Dense(512))\n",
        "model.add(BatchNormalization())\n",
        "model.add(Activation('relu'))\n",
        "model.add(Dropout(0.25))\n",
        "\n",
        "model.add(Dense(nb_classes, activation = 'softmax'))\n",
        "\n",
        "opt = Adam(lr = 0.0004)\n",
        "\n",
        "model.compile(optimizer = opt, loss = 'categorical_crossentropy', metrics = ['accuracy'])"
      ],
      "execution_count": 11,
      "outputs": []
    },
    {
      "cell_type": "code",
      "metadata": {
        "id": "EMSZbZiOONj3",
        "colab": {
          "base_uri": "https://localhost:8080/"
        },
        "outputId": "8d23d5ba-f34f-4df6-c1a1-29fc2026bf4e"
      },
      "source": [
        "model.summary()"
      ],
      "execution_count": 12,
      "outputs": [
        {
          "output_type": "stream",
          "text": [
            "Model: \"sequential\"\n",
            "_________________________________________________________________\n",
            "Layer (type)                 Output Shape              Param #   \n",
            "=================================================================\n",
            "conv2d (Conv2D)              (None, 48, 48, 64)        640       \n",
            "_________________________________________________________________\n",
            "batch_normalization (BatchNo (None, 48, 48, 64)        256       \n",
            "_________________________________________________________________\n",
            "activation (Activation)      (None, 48, 48, 64)        0         \n",
            "_________________________________________________________________\n",
            "max_pooling2d (MaxPooling2D) (None, 24, 24, 64)        0         \n",
            "_________________________________________________________________\n",
            "dropout (Dropout)            (None, 24, 24, 64)        0         \n",
            "_________________________________________________________________\n",
            "conv2d_1 (Conv2D)            (None, 24, 24, 128)       204928    \n",
            "_________________________________________________________________\n",
            "batch_normalization_1 (Batch (None, 24, 24, 128)       512       \n",
            "_________________________________________________________________\n",
            "activation_1 (Activation)    (None, 24, 24, 128)       0         \n",
            "_________________________________________________________________\n",
            "max_pooling2d_1 (MaxPooling2 (None, 12, 12, 128)       0         \n",
            "_________________________________________________________________\n",
            "dropout_1 (Dropout)          (None, 12, 12, 128)       0         \n",
            "_________________________________________________________________\n",
            "conv2d_2 (Conv2D)            (None, 12, 12, 512)       590336    \n",
            "_________________________________________________________________\n",
            "batch_normalization_2 (Batch (None, 12, 12, 512)       2048      \n",
            "_________________________________________________________________\n",
            "activation_2 (Activation)    (None, 12, 12, 512)       0         \n",
            "_________________________________________________________________\n",
            "max_pooling2d_2 (MaxPooling2 (None, 6, 6, 512)         0         \n",
            "_________________________________________________________________\n",
            "dropout_2 (Dropout)          (None, 6, 6, 512)         0         \n",
            "_________________________________________________________________\n",
            "conv2d_3 (Conv2D)            (None, 6, 6, 64)          294976    \n",
            "_________________________________________________________________\n",
            "batch_normalization_3 (Batch (None, 6, 6, 64)          256       \n",
            "_________________________________________________________________\n",
            "activation_3 (Activation)    (None, 6, 6, 64)          0         \n",
            "_________________________________________________________________\n",
            "max_pooling2d_3 (MaxPooling2 (None, 3, 3, 64)          0         \n",
            "_________________________________________________________________\n",
            "dropout_3 (Dropout)          (None, 3, 3, 64)          0         \n",
            "_________________________________________________________________\n",
            "flatten (Flatten)            (None, 576)               0         \n",
            "_________________________________________________________________\n",
            "dense (Dense)                (None, 256)               147712    \n",
            "_________________________________________________________________\n",
            "batch_normalization_4 (Batch (None, 256)               1024      \n",
            "_________________________________________________________________\n",
            "activation_4 (Activation)    (None, 256)               0         \n",
            "_________________________________________________________________\n",
            "dropout_4 (Dropout)          (None, 256)               0         \n",
            "_________________________________________________________________\n",
            "dense_1 (Dense)              (None, 512)               131584    \n",
            "_________________________________________________________________\n",
            "batch_normalization_5 (Batch (None, 512)               2048      \n",
            "_________________________________________________________________\n",
            "activation_5 (Activation)    (None, 512)               0         \n",
            "_________________________________________________________________\n",
            "dropout_5 (Dropout)          (None, 512)               0         \n",
            "_________________________________________________________________\n",
            "dense_2 (Dense)              (None, 2)                 1026      \n",
            "=================================================================\n",
            "Total params: 1,377,346\n",
            "Trainable params: 1,374,274\n",
            "Non-trainable params: 3,072\n",
            "_________________________________________________________________\n"
          ],
          "name": "stdout"
        }
      ]
    },
    {
      "cell_type": "code",
      "metadata": {
        "id": "IUz-pzIlONfn"
      },
      "source": [
        "#Training"
      ],
      "execution_count": 13,
      "outputs": []
    },
    {
      "cell_type": "code",
      "metadata": {
        "id": "de3xwG3UOo5T",
        "colab": {
          "base_uri": "https://localhost:8080/"
        },
        "outputId": "e951724a-671f-45bf-b431-d1eb732c8913"
      },
      "source": [
        "# number of epochs to train the NN\n",
        "epochs = 140\n",
        "from keras.callbacks import ModelCheckpoint\n",
        "\n",
        "#checkpoint = ModelCheckpoint(\"model_weights.h5\", monitor='val_acc', verbose=1, save_best_only=True, mode='max')\n",
        "#callbacks_list = [checkpoint]\n",
        "#steps per epoch = 28273/128 = 220\n",
        "history = model.fit_generator(generator=train_generator,\n",
        "                                steps_per_epoch=train_generator.n//train_generator.batch_size,\n",
        "                                epochs = epochs,\n",
        "                                verbose = 1)"
      ],
      "execution_count": 14,
      "outputs": [
        {
          "output_type": "stream",
          "text": [
            "WARNING:tensorflow:From <ipython-input-14-f8555fee93bd>:11: Model.fit_generator (from tensorflow.python.keras.engine.training) is deprecated and will be removed in a future version.\n",
            "Instructions for updating:\n",
            "Please use Model.fit, which supports generators.\n",
            "Epoch 1/140\n",
            "15/15 [==============================] - 108s 7s/step - loss: 0.8192 - accuracy: 0.5495\n",
            "Epoch 2/140\n",
            "15/15 [==============================] - 121s 8s/step - loss: 0.7352 - accuracy: 0.6010\n",
            "Epoch 3/140\n",
            "15/15 [==============================] - 117s 8s/step - loss: 0.6940 - accuracy: 0.6096\n",
            "Epoch 4/140\n",
            "15/15 [==============================] - 116s 8s/step - loss: 0.6829 - accuracy: 0.6392\n",
            "Epoch 5/140\n",
            "15/15 [==============================] - 115s 8s/step - loss: 0.6689 - accuracy: 0.6440\n",
            "Epoch 6/140\n",
            "15/15 [==============================] - 114s 8s/step - loss: 0.6688 - accuracy: 0.6467\n",
            "Epoch 7/140\n",
            "15/15 [==============================] - 110s 7s/step - loss: 0.6342 - accuracy: 0.6749\n",
            "Epoch 8/140\n",
            "15/15 [==============================] - 109s 7s/step - loss: 0.6414 - accuracy: 0.6725\n",
            "Epoch 9/140\n",
            "15/15 [==============================] - 109s 7s/step - loss: 0.6228 - accuracy: 0.6789\n",
            "Epoch 10/140\n",
            "15/15 [==============================] - 110s 7s/step - loss: 0.6082 - accuracy: 0.6952\n",
            "Epoch 11/140\n",
            "15/15 [==============================] - 110s 7s/step - loss: 0.5904 - accuracy: 0.7032\n",
            "Epoch 12/140\n",
            "15/15 [==============================] - 110s 7s/step - loss: 0.5961 - accuracy: 0.7040\n",
            "Epoch 13/140\n",
            "15/15 [==============================] - 109s 7s/step - loss: 0.5767 - accuracy: 0.7128\n",
            "Epoch 14/140\n",
            "15/15 [==============================] - 109s 7s/step - loss: 0.5699 - accuracy: 0.7107\n",
            "Epoch 15/140\n",
            "15/15 [==============================] - 110s 7s/step - loss: 0.5827 - accuracy: 0.7067\n",
            "Epoch 16/140\n",
            "15/15 [==============================] - 109s 7s/step - loss: 0.5656 - accuracy: 0.7147\n",
            "Epoch 17/140\n",
            "15/15 [==============================] - 108s 7s/step - loss: 0.5620 - accuracy: 0.7126\n",
            "Epoch 18/140\n",
            "15/15 [==============================] - 107s 7s/step - loss: 0.5562 - accuracy: 0.7275\n",
            "Epoch 19/140\n",
            "15/15 [==============================] - 108s 7s/step - loss: 0.5512 - accuracy: 0.7294\n",
            "Epoch 20/140\n",
            "15/15 [==============================] - 108s 7s/step - loss: 0.5342 - accuracy: 0.7345\n",
            "Epoch 21/140\n",
            "15/15 [==============================] - 107s 7s/step - loss: 0.5290 - accuracy: 0.7433\n",
            "Epoch 22/140\n",
            "15/15 [==============================] - 106s 7s/step - loss: 0.5326 - accuracy: 0.7417\n",
            "Epoch 23/140\n",
            "15/15 [==============================] - 107s 7s/step - loss: 0.5332 - accuracy: 0.7387\n",
            "Epoch 24/140\n",
            "15/15 [==============================] - 108s 7s/step - loss: 0.5336 - accuracy: 0.7441\n",
            "Epoch 25/140\n",
            "15/15 [==============================] - 107s 7s/step - loss: 0.5212 - accuracy: 0.7457\n",
            "Epoch 26/140\n",
            "15/15 [==============================] - 106s 7s/step - loss: 0.5234 - accuracy: 0.7443\n",
            "Epoch 27/140\n",
            "15/15 [==============================] - 108s 7s/step - loss: 0.5087 - accuracy: 0.7507\n",
            "Epoch 28/140\n",
            "15/15 [==============================] - 107s 7s/step - loss: 0.5137 - accuracy: 0.7547\n",
            "Epoch 29/140\n",
            "15/15 [==============================] - 107s 7s/step - loss: 0.5003 - accuracy: 0.7563\n",
            "Epoch 30/140\n",
            "15/15 [==============================] - 106s 7s/step - loss: 0.5032 - accuracy: 0.7531\n",
            "Epoch 31/140\n",
            "15/15 [==============================] - 106s 7s/step - loss: 0.4829 - accuracy: 0.7691\n",
            "Epoch 32/140\n",
            "15/15 [==============================] - 109s 7s/step - loss: 0.4913 - accuracy: 0.7625\n",
            "Epoch 33/140\n",
            "15/15 [==============================] - 110s 7s/step - loss: 0.4791 - accuracy: 0.7796\n",
            "Epoch 34/140\n",
            "15/15 [==============================] - 110s 7s/step - loss: 0.4811 - accuracy: 0.7766\n",
            "Epoch 35/140\n",
            "15/15 [==============================] - 110s 7s/step - loss: 0.4702 - accuracy: 0.7780\n",
            "Epoch 36/140\n",
            "15/15 [==============================] - 110s 7s/step - loss: 0.4716 - accuracy: 0.7782\n",
            "Epoch 37/140\n",
            "15/15 [==============================] - 110s 7s/step - loss: 0.4554 - accuracy: 0.7838\n",
            "Epoch 38/140\n",
            "15/15 [==============================] - 108s 7s/step - loss: 0.4575 - accuracy: 0.7953\n",
            "Epoch 39/140\n",
            "15/15 [==============================] - 107s 7s/step - loss: 0.4450 - accuracy: 0.7860\n",
            "Epoch 40/140\n",
            "15/15 [==============================] - 106s 7s/step - loss: 0.4521 - accuracy: 0.7884\n",
            "Epoch 41/140\n",
            "15/15 [==============================] - 107s 7s/step - loss: 0.4359 - accuracy: 0.7950\n",
            "Epoch 42/140\n",
            "15/15 [==============================] - 107s 7s/step - loss: 0.4263 - accuracy: 0.8041\n",
            "Epoch 43/140\n",
            "15/15 [==============================] - 109s 7s/step - loss: 0.4308 - accuracy: 0.8041\n",
            "Epoch 44/140\n",
            "15/15 [==============================] - 108s 7s/step - loss: 0.4184 - accuracy: 0.8046\n",
            "Epoch 45/140\n",
            "15/15 [==============================] - 107s 7s/step - loss: 0.4185 - accuracy: 0.8070\n",
            "Epoch 46/140\n",
            "15/15 [==============================] - 107s 7s/step - loss: 0.3950 - accuracy: 0.8231\n",
            "Epoch 47/140\n",
            "15/15 [==============================] - 108s 7s/step - loss: 0.3941 - accuracy: 0.8241\n",
            "Epoch 48/140\n",
            "15/15 [==============================] - 107s 7s/step - loss: 0.3968 - accuracy: 0.8191\n",
            "Epoch 49/140\n",
            "15/15 [==============================] - 106s 7s/step - loss: 0.3761 - accuracy: 0.8359\n",
            "Epoch 50/140\n",
            "15/15 [==============================] - 107s 7s/step - loss: 0.3867 - accuracy: 0.8220\n",
            "Epoch 51/140\n",
            "15/15 [==============================] - 106s 7s/step - loss: 0.3667 - accuracy: 0.8345\n",
            "Epoch 52/140\n",
            "15/15 [==============================] - 109s 7s/step - loss: 0.3610 - accuracy: 0.8391\n",
            "Epoch 53/140\n",
            "15/15 [==============================] - 107s 7s/step - loss: 0.3534 - accuracy: 0.8484\n",
            "Epoch 54/140\n",
            "15/15 [==============================] - 107s 7s/step - loss: 0.3349 - accuracy: 0.8540\n",
            "Epoch 55/140\n",
            "15/15 [==============================] - 107s 7s/step - loss: 0.3312 - accuracy: 0.8505\n",
            "Epoch 56/140\n",
            "15/15 [==============================] - 107s 7s/step - loss: 0.3290 - accuracy: 0.8551\n",
            "Epoch 57/140\n",
            "15/15 [==============================] - 108s 7s/step - loss: 0.3227 - accuracy: 0.8623\n",
            "Epoch 58/140\n",
            "15/15 [==============================] - 108s 7s/step - loss: 0.3142 - accuracy: 0.8620\n",
            "Epoch 59/140\n",
            "15/15 [==============================] - 109s 7s/step - loss: 0.3010 - accuracy: 0.8676\n",
            "Epoch 60/140\n",
            "15/15 [==============================] - 113s 8s/step - loss: 0.2918 - accuracy: 0.8783\n",
            "Epoch 61/140\n",
            "15/15 [==============================] - 113s 8s/step - loss: 0.2993 - accuracy: 0.8703\n",
            "Epoch 62/140\n",
            "15/15 [==============================] - 116s 8s/step - loss: 0.2815 - accuracy: 0.8799\n",
            "Epoch 63/140\n",
            "15/15 [==============================] - 111s 7s/step - loss: 0.2714 - accuracy: 0.8772\n",
            "Epoch 64/140\n",
            "15/15 [==============================] - 109s 7s/step - loss: 0.2605 - accuracy: 0.8903\n",
            "Epoch 65/140\n",
            "15/15 [==============================] - 109s 7s/step - loss: 0.2426 - accuracy: 0.9018\n",
            "Epoch 66/140\n",
            "15/15 [==============================] - 107s 7s/step - loss: 0.2397 - accuracy: 0.9018\n",
            "Epoch 67/140\n",
            "15/15 [==============================] - 107s 7s/step - loss: 0.2461 - accuracy: 0.8946\n",
            "Epoch 68/140\n",
            "15/15 [==============================] - 108s 7s/step - loss: 0.2315 - accuracy: 0.9037\n",
            "Epoch 69/140\n",
            "15/15 [==============================] - 108s 7s/step - loss: 0.2156 - accuracy: 0.9090\n",
            "Epoch 70/140\n",
            "15/15 [==============================] - 107s 7s/step - loss: 0.2154 - accuracy: 0.9143\n",
            "Epoch 71/140\n",
            "15/15 [==============================] - 114s 8s/step - loss: 0.2047 - accuracy: 0.9175\n",
            "Epoch 72/140\n",
            "15/15 [==============================] - 108s 7s/step - loss: 0.1970 - accuracy: 0.9189\n",
            "Epoch 73/140\n",
            "15/15 [==============================] - 106s 7s/step - loss: 0.2002 - accuracy: 0.9127\n",
            "Epoch 74/140\n",
            "15/15 [==============================] - 106s 7s/step - loss: 0.1896 - accuracy: 0.9205\n",
            "Epoch 75/140\n",
            "15/15 [==============================] - 105s 7s/step - loss: 0.1777 - accuracy: 0.9266\n",
            "Epoch 76/140\n",
            "15/15 [==============================] - 105s 7s/step - loss: 0.1675 - accuracy: 0.9266\n",
            "Epoch 77/140\n",
            "15/15 [==============================] - 105s 7s/step - loss: 0.1679 - accuracy: 0.9333\n",
            "Epoch 78/140\n",
            "15/15 [==============================] - 105s 7s/step - loss: 0.1579 - accuracy: 0.9373\n",
            "Epoch 79/140\n",
            "15/15 [==============================] - 106s 7s/step - loss: 0.1522 - accuracy: 0.9440\n",
            "Epoch 80/140\n",
            "15/15 [==============================] - 105s 7s/step - loss: 0.1706 - accuracy: 0.9319\n",
            "Epoch 81/140\n",
            "15/15 [==============================] - 105s 7s/step - loss: 0.1557 - accuracy: 0.9429\n",
            "Epoch 82/140\n",
            "15/15 [==============================] - 105s 7s/step - loss: 0.1438 - accuracy: 0.9450\n",
            "Epoch 83/140\n",
            "15/15 [==============================] - 105s 7s/step - loss: 0.1570 - accuracy: 0.9378\n",
            "Epoch 84/140\n",
            "15/15 [==============================] - 108s 7s/step - loss: 0.1473 - accuracy: 0.9370\n",
            "Epoch 85/140\n",
            "15/15 [==============================] - 112s 7s/step - loss: 0.1359 - accuracy: 0.9456\n",
            "Epoch 86/140\n",
            "15/15 [==============================] - 111s 7s/step - loss: 0.1431 - accuracy: 0.9416\n",
            "Epoch 87/140\n",
            "15/15 [==============================] - 110s 7s/step - loss: 0.1312 - accuracy: 0.9496\n",
            "Epoch 88/140\n",
            "15/15 [==============================] - 110s 7s/step - loss: 0.1426 - accuracy: 0.9410\n",
            "Epoch 89/140\n",
            "15/15 [==============================] - 111s 7s/step - loss: 0.1229 - accuracy: 0.9520\n",
            "Epoch 90/140\n",
            "15/15 [==============================] - 121s 8s/step - loss: 0.1143 - accuracy: 0.9533\n",
            "Epoch 91/140\n",
            "15/15 [==============================] - 124s 8s/step - loss: 0.1081 - accuracy: 0.9584\n",
            "Epoch 92/140\n",
            "15/15 [==============================] - 121s 8s/step - loss: 0.1104 - accuracy: 0.9602\n",
            "Epoch 93/140\n",
            "15/15 [==============================] - 119s 8s/step - loss: 0.1082 - accuracy: 0.9586\n",
            "Epoch 94/140\n",
            "15/15 [==============================] - 114s 8s/step - loss: 0.1012 - accuracy: 0.9613\n",
            "Epoch 95/140\n",
            "15/15 [==============================] - 111s 7s/step - loss: 0.0941 - accuracy: 0.9613\n",
            "Epoch 96/140\n",
            "15/15 [==============================] - 110s 7s/step - loss: 0.1032 - accuracy: 0.9602\n",
            "Epoch 97/140\n",
            "15/15 [==============================] - 110s 7s/step - loss: 0.0951 - accuracy: 0.9650\n",
            "Epoch 98/140\n",
            "15/15 [==============================] - 111s 7s/step - loss: 0.0885 - accuracy: 0.9709\n",
            "Epoch 99/140\n",
            "15/15 [==============================] - 117s 8s/step - loss: 0.0924 - accuracy: 0.9693\n",
            "Epoch 100/140\n",
            "15/15 [==============================] - 118s 8s/step - loss: 0.0936 - accuracy: 0.9626\n",
            "Epoch 101/140\n",
            "15/15 [==============================] - 110s 7s/step - loss: 0.0854 - accuracy: 0.9669\n",
            "Epoch 102/140\n",
            "15/15 [==============================] - 106s 7s/step - loss: 0.0887 - accuracy: 0.9664\n",
            "Epoch 103/140\n",
            "15/15 [==============================] - 106s 7s/step - loss: 0.0744 - accuracy: 0.9696\n",
            "Epoch 104/140\n",
            "15/15 [==============================] - 109s 7s/step - loss: 0.0743 - accuracy: 0.9704\n",
            "Epoch 105/140\n",
            "15/15 [==============================] - 110s 7s/step - loss: 0.0860 - accuracy: 0.9688\n",
            "Epoch 106/140\n",
            "15/15 [==============================] - 107s 7s/step - loss: 0.0823 - accuracy: 0.9696\n",
            "Epoch 107/140\n",
            "15/15 [==============================] - 105s 7s/step - loss: 0.0755 - accuracy: 0.9717\n",
            "Epoch 108/140\n",
            "15/15 [==============================] - 105s 7s/step - loss: 0.0713 - accuracy: 0.9752\n",
            "Epoch 109/140\n",
            "15/15 [==============================] - 105s 7s/step - loss: 0.0787 - accuracy: 0.9704\n",
            "Epoch 110/140\n",
            "15/15 [==============================] - 105s 7s/step - loss: 0.0732 - accuracy: 0.9701\n",
            "Epoch 111/140\n",
            "15/15 [==============================] - 107s 7s/step - loss: 0.0738 - accuracy: 0.9730\n",
            "Epoch 112/140\n",
            "15/15 [==============================] - 108s 7s/step - loss: 0.0767 - accuracy: 0.9725\n",
            "Epoch 113/140\n",
            "15/15 [==============================] - 105s 7s/step - loss: 0.0694 - accuracy: 0.9738\n",
            "Epoch 114/140\n",
            "15/15 [==============================] - 105s 7s/step - loss: 0.0704 - accuracy: 0.9728\n",
            "Epoch 115/140\n",
            "15/15 [==============================] - 110s 7s/step - loss: 0.0655 - accuracy: 0.9765\n",
            "Epoch 116/140\n",
            "15/15 [==============================] - 111s 7s/step - loss: 0.0531 - accuracy: 0.9816\n",
            "Epoch 117/140\n",
            "15/15 [==============================] - 118s 8s/step - loss: 0.0624 - accuracy: 0.9770\n",
            "Epoch 118/140\n",
            "15/15 [==============================] - 113s 8s/step - loss: 0.0565 - accuracy: 0.9776\n",
            "Epoch 119/140\n",
            "15/15 [==============================] - 111s 7s/step - loss: 0.0656 - accuracy: 0.9754\n",
            "Epoch 120/140\n",
            "15/15 [==============================] - 112s 7s/step - loss: 0.0646 - accuracy: 0.9752\n",
            "Epoch 121/140\n",
            "15/15 [==============================] - 114s 8s/step - loss: 0.0665 - accuracy: 0.9727\n",
            "Epoch 122/140\n",
            "15/15 [==============================] - 111s 7s/step - loss: 0.0519 - accuracy: 0.9795\n",
            "Epoch 123/140\n",
            "15/15 [==============================] - 112s 7s/step - loss: 0.0531 - accuracy: 0.9800\n",
            "Epoch 124/140\n",
            "15/15 [==============================] - 112s 7s/step - loss: 0.0557 - accuracy: 0.9808\n",
            "Epoch 125/140\n",
            "15/15 [==============================] - 112s 7s/step - loss: 0.0493 - accuracy: 0.9848\n",
            "Epoch 126/140\n",
            "15/15 [==============================] - 113s 8s/step - loss: 0.0566 - accuracy: 0.9819\n",
            "Epoch 127/140\n",
            "15/15 [==============================] - 118s 8s/step - loss: 0.0526 - accuracy: 0.9795\n",
            "Epoch 128/140\n",
            "15/15 [==============================] - 116s 8s/step - loss: 0.0610 - accuracy: 0.9800\n",
            "Epoch 129/140\n",
            "15/15 [==============================] - 109s 7s/step - loss: 0.0539 - accuracy: 0.9797\n",
            "Epoch 130/140\n",
            "15/15 [==============================] - 108s 7s/step - loss: 0.0561 - accuracy: 0.9786\n",
            "Epoch 131/140\n",
            "15/15 [==============================] - 106s 7s/step - loss: 0.0493 - accuracy: 0.9800\n",
            "Epoch 132/140\n",
            "15/15 [==============================] - 110s 7s/step - loss: 0.0567 - accuracy: 0.9792\n",
            "Epoch 133/140\n",
            "15/15 [==============================] - 108s 7s/step - loss: 0.0521 - accuracy: 0.9815\n",
            "Epoch 134/140\n",
            "15/15 [==============================] - 104s 7s/step - loss: 0.0378 - accuracy: 0.9867\n",
            "Epoch 135/140\n",
            "15/15 [==============================] - 105s 7s/step - loss: 0.0462 - accuracy: 0.9835\n",
            "Epoch 136/140\n",
            "15/15 [==============================] - 107s 7s/step - loss: 0.0453 - accuracy: 0.9805\n",
            "Epoch 137/140\n",
            "15/15 [==============================] - 104s 7s/step - loss: 0.0460 - accuracy: 0.9824\n",
            "Epoch 138/140\n",
            "15/15 [==============================] - 104s 7s/step - loss: 0.0537 - accuracy: 0.9811\n",
            "Epoch 139/140\n",
            "15/15 [==============================] - 104s 7s/step - loss: 0.0483 - accuracy: 0.9808\n",
            "Epoch 140/140\n",
            "15/15 [==============================] - 107s 7s/step - loss: 0.0344 - accuracy: 0.9883\n"
          ],
          "name": "stdout"
        }
      ]
    },
    {
      "cell_type": "code",
      "metadata": {
        "id": "ybcLMkxJmYI5",
        "colab": {
          "base_uri": "https://localhost:8080/",
          "height": 246
        },
        "outputId": "55a04457-1636-45a3-92e9-b9e0b1b6b83c"
      },
      "source": [
        "plt.figure(figsize=(20,10))\n",
        "plt.subplot(1, 2, 1)\n",
        "plt.suptitle('Optimizer : Adam', fontsize=20)\n",
        "plt.ylabel('Loss', fontsize=16)\n",
        "plt.plot(history.history['loss'], label='Training Loss')\n",
        "plt.plot(history.history['val_loss'], label='Validation Loss')\n",
        "plt.legend(loc='upper right')\n",
        "#########################################################################\n",
        "plt.subplot(1, 2, 2)\n",
        "plt.ylabel('Accuracy', fontsize=16)\n",
        "plt.plot(history.history['accuracy'], label='Training Accuracy')\n",
        "plt.plot(history.history['val_acc'], label='Validation Accuracy')\n",
        "plt.legend(loc='lower right')\n",
        "plt.show()"
      ],
      "execution_count": 1,
      "outputs": [
        {
          "output_type": "error",
          "ename": "NameError",
          "evalue": "ignored",
          "traceback": [
            "\u001b[0;31m---------------------------------------------------------------------------\u001b[0m",
            "\u001b[0;31mNameError\u001b[0m                                 Traceback (most recent call last)",
            "\u001b[0;32m<ipython-input-1-9b3431b4f5a0>\u001b[0m in \u001b[0;36m<module>\u001b[0;34m()\u001b[0m\n\u001b[0;32m----> 1\u001b[0;31m \u001b[0mplt\u001b[0m\u001b[0;34m.\u001b[0m\u001b[0mfigure\u001b[0m\u001b[0;34m(\u001b[0m\u001b[0mfigsize\u001b[0m\u001b[0;34m=\u001b[0m\u001b[0;34m(\u001b[0m\u001b[0;36m20\u001b[0m\u001b[0;34m,\u001b[0m\u001b[0;36m10\u001b[0m\u001b[0;34m)\u001b[0m\u001b[0;34m)\u001b[0m\u001b[0;34m\u001b[0m\u001b[0;34m\u001b[0m\u001b[0m\n\u001b[0m\u001b[1;32m      2\u001b[0m \u001b[0mplt\u001b[0m\u001b[0;34m.\u001b[0m\u001b[0msubplot\u001b[0m\u001b[0;34m(\u001b[0m\u001b[0;36m1\u001b[0m\u001b[0;34m,\u001b[0m \u001b[0;36m2\u001b[0m\u001b[0;34m,\u001b[0m \u001b[0;36m1\u001b[0m\u001b[0;34m)\u001b[0m\u001b[0;34m\u001b[0m\u001b[0;34m\u001b[0m\u001b[0m\n\u001b[1;32m      3\u001b[0m \u001b[0mplt\u001b[0m\u001b[0;34m.\u001b[0m\u001b[0msuptitle\u001b[0m\u001b[0;34m(\u001b[0m\u001b[0;34m'Optimizer : Adam'\u001b[0m\u001b[0;34m,\u001b[0m \u001b[0mfontsize\u001b[0m\u001b[0;34m=\u001b[0m\u001b[0;36m20\u001b[0m\u001b[0;34m)\u001b[0m\u001b[0;34m\u001b[0m\u001b[0;34m\u001b[0m\u001b[0m\n\u001b[1;32m      4\u001b[0m \u001b[0mplt\u001b[0m\u001b[0;34m.\u001b[0m\u001b[0mylabel\u001b[0m\u001b[0;34m(\u001b[0m\u001b[0;34m'Loss'\u001b[0m\u001b[0;34m,\u001b[0m \u001b[0mfontsize\u001b[0m\u001b[0;34m=\u001b[0m\u001b[0;36m16\u001b[0m\u001b[0;34m)\u001b[0m\u001b[0;34m\u001b[0m\u001b[0;34m\u001b[0m\u001b[0m\n\u001b[1;32m      5\u001b[0m \u001b[0mplt\u001b[0m\u001b[0;34m.\u001b[0m\u001b[0mplot\u001b[0m\u001b[0;34m(\u001b[0m\u001b[0mhistory\u001b[0m\u001b[0;34m.\u001b[0m\u001b[0mhistory\u001b[0m\u001b[0;34m[\u001b[0m\u001b[0;34m'loss'\u001b[0m\u001b[0;34m]\u001b[0m\u001b[0;34m,\u001b[0m \u001b[0mlabel\u001b[0m\u001b[0;34m=\u001b[0m\u001b[0;34m'Training Loss'\u001b[0m\u001b[0;34m)\u001b[0m\u001b[0;34m\u001b[0m\u001b[0;34m\u001b[0m\u001b[0m\n",
            "\u001b[0;31mNameError\u001b[0m: name 'plt' is not defined"
          ]
        }
      ]
    },
    {
      "cell_type": "code",
      "metadata": {
        "colab": {
          "base_uri": "https://localhost:8080/",
          "height": 172
        },
        "id": "AyOb8eJdxyzR",
        "outputId": "da0755bb-2ef6-4360-9880-22fe15b3a46d"
      },
      "source": [
        "print(classification_report(validation_generator.classes, y_pred, target_names=target_names))"
      ],
      "execution_count": 1,
      "outputs": [
        {
          "output_type": "error",
          "ename": "NameError",
          "evalue": "ignored",
          "traceback": [
            "\u001b[0;31m---------------------------------------------------------------------------\u001b[0m",
            "\u001b[0;31mNameError\u001b[0m                                 Traceback (most recent call last)",
            "\u001b[0;32m<ipython-input-1-4ee2437f727b>\u001b[0m in \u001b[0;36m<module>\u001b[0;34m()\u001b[0m\n\u001b[0;32m----> 1\u001b[0;31m \u001b[0mprint\u001b[0m\u001b[0;34m(\u001b[0m\u001b[0mclassification_report\u001b[0m\u001b[0;34m(\u001b[0m\u001b[0mvalidation_generator\u001b[0m\u001b[0;34m.\u001b[0m\u001b[0mclasses\u001b[0m\u001b[0;34m,\u001b[0m \u001b[0my_pred\u001b[0m\u001b[0;34m,\u001b[0m \u001b[0mtarget_names\u001b[0m\u001b[0;34m=\u001b[0m\u001b[0mtarget_names\u001b[0m\u001b[0;34m)\u001b[0m\u001b[0;34m)\u001b[0m\u001b[0;34m\u001b[0m\u001b[0;34m\u001b[0m\u001b[0m\n\u001b[0m",
            "\u001b[0;31mNameError\u001b[0m: name 'classification_report' is not defined"
          ]
        }
      ]
    },
    {
      "cell_type": "code",
      "metadata": {
        "id": "FPWKxb4m86k6",
        "colab": {
          "base_uri": "https://localhost:8080/",
          "height": 246
        },
        "outputId": "e59c6867-7e15-4574-f6a5-52d62a0f6012"
      },
      "source": [
        "# 1. Authenticate and create the PyDrive client.\n",
        "auth.authenticate_user()\n",
        "gauth = GoogleAuth()\n",
        "gauth.credentials = GoogleCredentials.get_application_default()\n",
        "drive = GoogleDrive(gauth)"
      ],
      "execution_count": 2,
      "outputs": [
        {
          "output_type": "error",
          "ename": "NameError",
          "evalue": "ignored",
          "traceback": [
            "\u001b[0;31m---------------------------------------------------------------------------\u001b[0m",
            "\u001b[0;31mNameError\u001b[0m                                 Traceback (most recent call last)",
            "\u001b[0;32m<ipython-input-2-26fb600cd125>\u001b[0m in \u001b[0;36m<module>\u001b[0;34m()\u001b[0m\n\u001b[1;32m      1\u001b[0m \u001b[0;31m# 1. Authenticate and create the PyDrive client.\u001b[0m\u001b[0;34m\u001b[0m\u001b[0;34m\u001b[0m\u001b[0;34m\u001b[0m\u001b[0m\n\u001b[0;32m----> 2\u001b[0;31m \u001b[0mauth\u001b[0m\u001b[0;34m.\u001b[0m\u001b[0mauthenticate_user\u001b[0m\u001b[0;34m(\u001b[0m\u001b[0;34m)\u001b[0m\u001b[0;34m\u001b[0m\u001b[0;34m\u001b[0m\u001b[0m\n\u001b[0m\u001b[1;32m      3\u001b[0m \u001b[0mgauth\u001b[0m \u001b[0;34m=\u001b[0m \u001b[0mGoogleAuth\u001b[0m\u001b[0;34m(\u001b[0m\u001b[0;34m)\u001b[0m\u001b[0;34m\u001b[0m\u001b[0;34m\u001b[0m\u001b[0m\n\u001b[1;32m      4\u001b[0m \u001b[0mgauth\u001b[0m\u001b[0;34m.\u001b[0m\u001b[0mcredentials\u001b[0m \u001b[0;34m=\u001b[0m \u001b[0mGoogleCredentials\u001b[0m\u001b[0;34m.\u001b[0m\u001b[0mget_application_default\u001b[0m\u001b[0;34m(\u001b[0m\u001b[0;34m)\u001b[0m\u001b[0;34m\u001b[0m\u001b[0;34m\u001b[0m\u001b[0m\n\u001b[1;32m      5\u001b[0m \u001b[0mdrive\u001b[0m \u001b[0;34m=\u001b[0m \u001b[0mGoogleDrive\u001b[0m\u001b[0;34m(\u001b[0m\u001b[0mgauth\u001b[0m\u001b[0;34m)\u001b[0m\u001b[0;34m\u001b[0m\u001b[0;34m\u001b[0m\u001b[0m\n",
            "\u001b[0;31mNameError\u001b[0m: name 'auth' is not defined"
          ]
        }
      ]
    },
    {
      "cell_type": "code",
      "metadata": {
        "id": "alvygtxOA0j8",
        "colab": {
          "base_uri": "https://localhost:8080/",
          "height": 325
        },
        "outputId": "e22046ce-66d3-4f0e-c2db-622d77b138c6"
      },
      "source": [
        "# create on Colab directory\n",
        "model.save('model.h5')   \n",
        "\n",
        "#Saving in DRIVE\n",
        "#From Deep attention\n",
        "\n",
        "model_file = drive.CreateFile({'title' : 'model.h5'})\n",
        "model_file.SetContentFile('model1.h5')\n",
        "model_file.Upload()"
      ],
      "execution_count": 17,
      "outputs": [
        {
          "output_type": "error",
          "ename": "FailedPreconditionError",
          "evalue": "ignored",
          "traceback": [
            "\u001b[0;31m---------------------------------------------------------------------------\u001b[0m",
            "\u001b[0;31mFailedPreconditionError\u001b[0m                   Traceback (most recent call last)",
            "\u001b[0;32m<ipython-input-17-619c6f591d9d>\u001b[0m in \u001b[0;36m<module>\u001b[0;34m()\u001b[0m\n\u001b[1;32m      1\u001b[0m \u001b[0;31m# create on Colab directory\u001b[0m\u001b[0;34m\u001b[0m\u001b[0;34m\u001b[0m\u001b[0;34m\u001b[0m\u001b[0m\n\u001b[0;32m----> 2\u001b[0;31m \u001b[0mmodel\u001b[0m\u001b[0;34m.\u001b[0m\u001b[0msave\u001b[0m\u001b[0;34m(\u001b[0m\u001b[0;34m'model.h5'\u001b[0m\u001b[0;34m)\u001b[0m\u001b[0;34m\u001b[0m\u001b[0;34m\u001b[0m\u001b[0m\n\u001b[0m\u001b[1;32m      3\u001b[0m \u001b[0;34m\u001b[0m\u001b[0m\n\u001b[1;32m      4\u001b[0m \u001b[0;31m#Saving in DRIVE\u001b[0m\u001b[0;34m\u001b[0m\u001b[0;34m\u001b[0m\u001b[0;34m\u001b[0m\u001b[0m\n\u001b[1;32m      5\u001b[0m \u001b[0;31m#From Deep attention\u001b[0m\u001b[0;34m\u001b[0m\u001b[0;34m\u001b[0m\u001b[0;34m\u001b[0m\u001b[0m\n",
            "\u001b[0;32m/usr/local/lib/python3.6/dist-packages/tensorflow/python/keras/engine/training.py\u001b[0m in \u001b[0;36msave\u001b[0;34m(self, filepath, overwrite, include_optimizer, save_format, signatures, options)\u001b[0m\n\u001b[1;32m   1977\u001b[0m     \"\"\"\n\u001b[1;32m   1978\u001b[0m     save.save_model(self, filepath, overwrite, include_optimizer, save_format,\n\u001b[0;32m-> 1979\u001b[0;31m                     signatures, options)\n\u001b[0m\u001b[1;32m   1980\u001b[0m \u001b[0;34m\u001b[0m\u001b[0m\n\u001b[1;32m   1981\u001b[0m   def save_weights(self,\n",
            "\u001b[0;32m/usr/local/lib/python3.6/dist-packages/tensorflow/python/keras/saving/save.py\u001b[0m in \u001b[0;36msave_model\u001b[0;34m(model, filepath, overwrite, include_optimizer, save_format, signatures, options)\u001b[0m\n\u001b[1;32m    129\u001b[0m           'or using `save_weights`.')\n\u001b[1;32m    130\u001b[0m     hdf5_format.save_model_to_hdf5(\n\u001b[0;32m--> 131\u001b[0;31m         model, filepath, overwrite, include_optimizer)\n\u001b[0m\u001b[1;32m    132\u001b[0m   \u001b[0;32melse\u001b[0m\u001b[0;34m:\u001b[0m\u001b[0;34m\u001b[0m\u001b[0;34m\u001b[0m\u001b[0m\n\u001b[1;32m    133\u001b[0m     saved_model_save.save(model, filepath, overwrite, include_optimizer,\n",
            "\u001b[0;32m/usr/local/lib/python3.6/dist-packages/tensorflow/python/keras/saving/hdf5_format.py\u001b[0m in \u001b[0;36msave_model_to_hdf5\u001b[0;34m(model, filepath, overwrite, include_optimizer)\u001b[0m\n\u001b[1;32m    107\u001b[0m \u001b[0;34m\u001b[0m\u001b[0m\n\u001b[1;32m    108\u001b[0m   \u001b[0;32mtry\u001b[0m\u001b[0;34m:\u001b[0m\u001b[0;34m\u001b[0m\u001b[0;34m\u001b[0m\u001b[0m\n\u001b[0;32m--> 109\u001b[0;31m     \u001b[0mmodel_metadata\u001b[0m \u001b[0;34m=\u001b[0m \u001b[0msaving_utils\u001b[0m\u001b[0;34m.\u001b[0m\u001b[0mmodel_metadata\u001b[0m\u001b[0;34m(\u001b[0m\u001b[0mmodel\u001b[0m\u001b[0;34m,\u001b[0m \u001b[0minclude_optimizer\u001b[0m\u001b[0;34m)\u001b[0m\u001b[0;34m\u001b[0m\u001b[0;34m\u001b[0m\u001b[0m\n\u001b[0m\u001b[1;32m    110\u001b[0m     \u001b[0;32mfor\u001b[0m \u001b[0mk\u001b[0m\u001b[0;34m,\u001b[0m \u001b[0mv\u001b[0m \u001b[0;32min\u001b[0m \u001b[0mmodel_metadata\u001b[0m\u001b[0;34m.\u001b[0m\u001b[0mitems\u001b[0m\u001b[0;34m(\u001b[0m\u001b[0;34m)\u001b[0m\u001b[0;34m:\u001b[0m\u001b[0;34m\u001b[0m\u001b[0;34m\u001b[0m\u001b[0m\n\u001b[1;32m    111\u001b[0m       \u001b[0;32mif\u001b[0m \u001b[0misinstance\u001b[0m\u001b[0;34m(\u001b[0m\u001b[0mv\u001b[0m\u001b[0;34m,\u001b[0m \u001b[0;34m(\u001b[0m\u001b[0mdict\u001b[0m\u001b[0;34m,\u001b[0m \u001b[0mlist\u001b[0m\u001b[0;34m,\u001b[0m \u001b[0mtuple\u001b[0m\u001b[0;34m)\u001b[0m\u001b[0;34m)\u001b[0m\u001b[0;34m:\u001b[0m\u001b[0;34m\u001b[0m\u001b[0;34m\u001b[0m\u001b[0m\n",
            "\u001b[0;32m/usr/local/lib/python3.6/dist-packages/tensorflow/python/keras/saving/saving_utils.py\u001b[0m in \u001b[0;36mmodel_metadata\u001b[0;34m(model, include_optimizer, require_config)\u001b[0m\n\u001b[1;32m    188\u001b[0m                 \u001b[0mgeneric_utils\u001b[0m\u001b[0;34m.\u001b[0m\u001b[0mget_registered_name\u001b[0m\u001b[0;34m(\u001b[0m\u001b[0mmodel\u001b[0m\u001b[0;34m.\u001b[0m\u001b[0moptimizer\u001b[0m\u001b[0;34m.\u001b[0m\u001b[0m__class__\u001b[0m\u001b[0;34m)\u001b[0m\u001b[0;34m,\u001b[0m\u001b[0;34m\u001b[0m\u001b[0;34m\u001b[0m\u001b[0m\n\u001b[1;32m    189\u001b[0m             \u001b[0;34m'config'\u001b[0m\u001b[0;34m:\u001b[0m\u001b[0;34m\u001b[0m\u001b[0;34m\u001b[0m\u001b[0m\n\u001b[0;32m--> 190\u001b[0;31m                 \u001b[0mmodel\u001b[0m\u001b[0;34m.\u001b[0m\u001b[0moptimizer\u001b[0m\u001b[0;34m.\u001b[0m\u001b[0mget_config\u001b[0m\u001b[0;34m(\u001b[0m\u001b[0;34m)\u001b[0m\u001b[0;34m\u001b[0m\u001b[0;34m\u001b[0m\u001b[0m\n\u001b[0m\u001b[1;32m    191\u001b[0m         }\n\u001b[1;32m    192\u001b[0m       \u001b[0mmetadata\u001b[0m\u001b[0;34m[\u001b[0m\u001b[0;34m'training_config'\u001b[0m\u001b[0;34m]\u001b[0m\u001b[0;34m[\u001b[0m\u001b[0;34m'optimizer_config'\u001b[0m\u001b[0;34m]\u001b[0m \u001b[0;34m=\u001b[0m \u001b[0moptimizer_config\u001b[0m\u001b[0;34m\u001b[0m\u001b[0;34m\u001b[0m\u001b[0m\n",
            "\u001b[0;32m/usr/local/lib/python3.6/dist-packages/tensorflow/python/keras/optimizer_v2/adam.py\u001b[0m in \u001b[0;36mget_config\u001b[0;34m(self)\u001b[0m\n\u001b[1;32m    243\u001b[0m     \u001b[0mconfig\u001b[0m \u001b[0;34m=\u001b[0m \u001b[0msuper\u001b[0m\u001b[0;34m(\u001b[0m\u001b[0mAdam\u001b[0m\u001b[0;34m,\u001b[0m \u001b[0mself\u001b[0m\u001b[0;34m)\u001b[0m\u001b[0;34m.\u001b[0m\u001b[0mget_config\u001b[0m\u001b[0;34m(\u001b[0m\u001b[0;34m)\u001b[0m\u001b[0;34m\u001b[0m\u001b[0;34m\u001b[0m\u001b[0m\n\u001b[1;32m    244\u001b[0m     config.update({\n\u001b[0;32m--> 245\u001b[0;31m         \u001b[0;34m'learning_rate'\u001b[0m\u001b[0;34m:\u001b[0m \u001b[0mself\u001b[0m\u001b[0;34m.\u001b[0m\u001b[0m_serialize_hyperparameter\u001b[0m\u001b[0;34m(\u001b[0m\u001b[0;34m'learning_rate'\u001b[0m\u001b[0;34m)\u001b[0m\u001b[0;34m,\u001b[0m\u001b[0;34m\u001b[0m\u001b[0;34m\u001b[0m\u001b[0m\n\u001b[0m\u001b[1;32m    246\u001b[0m         \u001b[0;34m'decay'\u001b[0m\u001b[0;34m:\u001b[0m \u001b[0mself\u001b[0m\u001b[0;34m.\u001b[0m\u001b[0m_serialize_hyperparameter\u001b[0m\u001b[0;34m(\u001b[0m\u001b[0;34m'decay'\u001b[0m\u001b[0;34m)\u001b[0m\u001b[0;34m,\u001b[0m\u001b[0;34m\u001b[0m\u001b[0;34m\u001b[0m\u001b[0m\n\u001b[1;32m    247\u001b[0m         \u001b[0;34m'beta_1'\u001b[0m\u001b[0;34m:\u001b[0m \u001b[0mself\u001b[0m\u001b[0;34m.\u001b[0m\u001b[0m_serialize_hyperparameter\u001b[0m\u001b[0;34m(\u001b[0m\u001b[0;34m'beta_1'\u001b[0m\u001b[0;34m)\u001b[0m\u001b[0;34m,\u001b[0m\u001b[0;34m\u001b[0m\u001b[0;34m\u001b[0m\u001b[0m\n",
            "\u001b[0;32m/usr/local/lib/python3.6/dist-packages/tensorflow/python/keras/optimizer_v2/optimizer_v2.py\u001b[0m in \u001b[0;36m_serialize_hyperparameter\u001b[0;34m(self, hyperparameter_name)\u001b[0m\n\u001b[1;32m    910\u001b[0m       \u001b[0;32mreturn\u001b[0m \u001b[0mvalue\u001b[0m\u001b[0;34m(\u001b[0m\u001b[0;34m)\u001b[0m\u001b[0;34m\u001b[0m\u001b[0;34m\u001b[0m\u001b[0m\n\u001b[1;32m    911\u001b[0m     \u001b[0;32mif\u001b[0m \u001b[0mtensor_util\u001b[0m\u001b[0;34m.\u001b[0m\u001b[0mis_tensor\u001b[0m\u001b[0;34m(\u001b[0m\u001b[0mvalue\u001b[0m\u001b[0;34m)\u001b[0m\u001b[0;34m:\u001b[0m\u001b[0;34m\u001b[0m\u001b[0;34m\u001b[0m\u001b[0m\n\u001b[0;32m--> 912\u001b[0;31m       \u001b[0;32mreturn\u001b[0m \u001b[0mbackend\u001b[0m\u001b[0;34m.\u001b[0m\u001b[0mget_value\u001b[0m\u001b[0;34m(\u001b[0m\u001b[0mvalue\u001b[0m\u001b[0;34m)\u001b[0m\u001b[0;34m\u001b[0m\u001b[0;34m\u001b[0m\u001b[0m\n\u001b[0m\u001b[1;32m    913\u001b[0m     \u001b[0;32mreturn\u001b[0m \u001b[0mvalue\u001b[0m\u001b[0;34m\u001b[0m\u001b[0;34m\u001b[0m\u001b[0m\n\u001b[1;32m    914\u001b[0m \u001b[0;34m\u001b[0m\u001b[0m\n",
            "\u001b[0;32m/usr/local/lib/python3.6/dist-packages/tensorflow/python/keras/backend.py\u001b[0m in \u001b[0;36mget_value\u001b[0;34m(x)\u001b[0m\n\u001b[1;32m   3486\u001b[0m     \u001b[0;32mreturn\u001b[0m \u001b[0mx\u001b[0m\u001b[0;34m\u001b[0m\u001b[0;34m\u001b[0m\u001b[0m\n\u001b[1;32m   3487\u001b[0m   \u001b[0;32mif\u001b[0m \u001b[0mcontext\u001b[0m\u001b[0;34m.\u001b[0m\u001b[0mexecuting_eagerly\u001b[0m\u001b[0;34m(\u001b[0m\u001b[0;34m)\u001b[0m \u001b[0;32mor\u001b[0m \u001b[0misinstance\u001b[0m\u001b[0;34m(\u001b[0m\u001b[0mx\u001b[0m\u001b[0;34m,\u001b[0m \u001b[0mops\u001b[0m\u001b[0;34m.\u001b[0m\u001b[0mEagerTensor\u001b[0m\u001b[0;34m)\u001b[0m\u001b[0;34m:\u001b[0m\u001b[0;34m\u001b[0m\u001b[0;34m\u001b[0m\u001b[0m\n\u001b[0;32m-> 3488\u001b[0;31m     \u001b[0;32mreturn\u001b[0m \u001b[0mx\u001b[0m\u001b[0;34m.\u001b[0m\u001b[0mnumpy\u001b[0m\u001b[0;34m(\u001b[0m\u001b[0;34m)\u001b[0m\u001b[0;34m\u001b[0m\u001b[0;34m\u001b[0m\u001b[0m\n\u001b[0m\u001b[1;32m   3489\u001b[0m   \u001b[0;32mif\u001b[0m \u001b[0;32mnot\u001b[0m \u001b[0mgetattr\u001b[0m\u001b[0;34m(\u001b[0m\u001b[0mx\u001b[0m\u001b[0;34m,\u001b[0m \u001b[0;34m'_in_graph_mode'\u001b[0m\u001b[0;34m,\u001b[0m \u001b[0;32mTrue\u001b[0m\u001b[0;34m)\u001b[0m\u001b[0;34m:\u001b[0m\u001b[0;34m\u001b[0m\u001b[0;34m\u001b[0m\u001b[0m\n\u001b[1;32m   3490\u001b[0m     \u001b[0;31m# This is a variable which was created in an eager context, but is being\u001b[0m\u001b[0;34m\u001b[0m\u001b[0;34m\u001b[0m\u001b[0;34m\u001b[0m\u001b[0m\n",
            "\u001b[0;32m/usr/local/lib/python3.6/dist-packages/tensorflow/python/ops/resource_variable_ops.py\u001b[0m in \u001b[0;36mnumpy\u001b[0;34m(self)\u001b[0m\n\u001b[1;32m    606\u001b[0m   \u001b[0;32mdef\u001b[0m \u001b[0mnumpy\u001b[0m\u001b[0;34m(\u001b[0m\u001b[0mself\u001b[0m\u001b[0;34m)\u001b[0m\u001b[0;34m:\u001b[0m\u001b[0;34m\u001b[0m\u001b[0;34m\u001b[0m\u001b[0m\n\u001b[1;32m    607\u001b[0m     \u001b[0;32mif\u001b[0m \u001b[0mcontext\u001b[0m\u001b[0;34m.\u001b[0m\u001b[0mexecuting_eagerly\u001b[0m\u001b[0;34m(\u001b[0m\u001b[0;34m)\u001b[0m\u001b[0;34m:\u001b[0m\u001b[0;34m\u001b[0m\u001b[0;34m\u001b[0m\u001b[0m\n\u001b[0;32m--> 608\u001b[0;31m       \u001b[0;32mreturn\u001b[0m \u001b[0mself\u001b[0m\u001b[0;34m.\u001b[0m\u001b[0mread_value\u001b[0m\u001b[0;34m(\u001b[0m\u001b[0;34m)\u001b[0m\u001b[0;34m.\u001b[0m\u001b[0mnumpy\u001b[0m\u001b[0;34m(\u001b[0m\u001b[0;34m)\u001b[0m\u001b[0;34m\u001b[0m\u001b[0;34m\u001b[0m\u001b[0m\n\u001b[0m\u001b[1;32m    609\u001b[0m     raise NotImplementedError(\n\u001b[1;32m    610\u001b[0m         \"numpy() is only available when eager execution is enabled.\")\n",
            "\u001b[0;32m/usr/local/lib/python3.6/dist-packages/tensorflow/python/ops/resource_variable_ops.py\u001b[0m in \u001b[0;36mread_value\u001b[0;34m(self)\u001b[0m\n\u001b[1;32m    676\u001b[0m     \"\"\"\n\u001b[1;32m    677\u001b[0m     \u001b[0;32mwith\u001b[0m \u001b[0mops\u001b[0m\u001b[0;34m.\u001b[0m\u001b[0mname_scope\u001b[0m\u001b[0;34m(\u001b[0m\u001b[0;34m\"Read\"\u001b[0m\u001b[0;34m)\u001b[0m\u001b[0;34m:\u001b[0m\u001b[0;34m\u001b[0m\u001b[0;34m\u001b[0m\u001b[0m\n\u001b[0;32m--> 678\u001b[0;31m       \u001b[0mvalue\u001b[0m \u001b[0;34m=\u001b[0m \u001b[0mself\u001b[0m\u001b[0;34m.\u001b[0m\u001b[0m_read_variable_op\u001b[0m\u001b[0;34m(\u001b[0m\u001b[0;34m)\u001b[0m\u001b[0;34m\u001b[0m\u001b[0;34m\u001b[0m\u001b[0m\n\u001b[0m\u001b[1;32m    679\u001b[0m     \u001b[0;31m# Return an identity so it can get placed on whatever device the context\u001b[0m\u001b[0;34m\u001b[0m\u001b[0;34m\u001b[0m\u001b[0;34m\u001b[0m\u001b[0m\n\u001b[1;32m    680\u001b[0m     \u001b[0;31m# specifies instead of the device where the variable is.\u001b[0m\u001b[0;34m\u001b[0m\u001b[0;34m\u001b[0m\u001b[0;34m\u001b[0m\u001b[0m\n",
            "\u001b[0;32m/usr/local/lib/python3.6/dist-packages/tensorflow/python/ops/resource_variable_ops.py\u001b[0m in \u001b[0;36m_read_variable_op\u001b[0;34m(self)\u001b[0m\n\u001b[1;32m    655\u001b[0m           \u001b[0mresult\u001b[0m \u001b[0;34m=\u001b[0m \u001b[0mread_and_set_handle\u001b[0m\u001b[0;34m(\u001b[0m\u001b[0;34m)\u001b[0m\u001b[0;34m\u001b[0m\u001b[0;34m\u001b[0m\u001b[0m\n\u001b[1;32m    656\u001b[0m     \u001b[0;32melse\u001b[0m\u001b[0;34m:\u001b[0m\u001b[0;34m\u001b[0m\u001b[0;34m\u001b[0m\u001b[0m\n\u001b[0;32m--> 657\u001b[0;31m       \u001b[0mresult\u001b[0m \u001b[0;34m=\u001b[0m \u001b[0mread_and_set_handle\u001b[0m\u001b[0;34m(\u001b[0m\u001b[0;34m)\u001b[0m\u001b[0;34m\u001b[0m\u001b[0;34m\u001b[0m\u001b[0m\n\u001b[0m\u001b[1;32m    658\u001b[0m \u001b[0;34m\u001b[0m\u001b[0m\n\u001b[1;32m    659\u001b[0m     \u001b[0;32mif\u001b[0m \u001b[0;32mnot\u001b[0m \u001b[0mcontext\u001b[0m\u001b[0;34m.\u001b[0m\u001b[0mexecuting_eagerly\u001b[0m\u001b[0;34m(\u001b[0m\u001b[0;34m)\u001b[0m\u001b[0;34m:\u001b[0m\u001b[0;34m\u001b[0m\u001b[0;34m\u001b[0m\u001b[0m\n",
            "\u001b[0;32m/usr/local/lib/python3.6/dist-packages/tensorflow/python/ops/resource_variable_ops.py\u001b[0m in \u001b[0;36mread_and_set_handle\u001b[0;34m()\u001b[0m\n\u001b[1;32m    646\u001b[0m     \u001b[0;32mdef\u001b[0m \u001b[0mread_and_set_handle\u001b[0m\u001b[0;34m(\u001b[0m\u001b[0;34m)\u001b[0m\u001b[0;34m:\u001b[0m\u001b[0;34m\u001b[0m\u001b[0;34m\u001b[0m\u001b[0m\n\u001b[1;32m    647\u001b[0m       result = gen_resource_variable_ops.read_variable_op(self._handle,\n\u001b[0;32m--> 648\u001b[0;31m                                                           self._dtype)\n\u001b[0m\u001b[1;32m    649\u001b[0m       \u001b[0m_maybe_set_handle_data\u001b[0m\u001b[0;34m(\u001b[0m\u001b[0mself\u001b[0m\u001b[0;34m.\u001b[0m\u001b[0m_dtype\u001b[0m\u001b[0;34m,\u001b[0m \u001b[0mself\u001b[0m\u001b[0;34m.\u001b[0m\u001b[0m_handle\u001b[0m\u001b[0;34m,\u001b[0m \u001b[0mresult\u001b[0m\u001b[0;34m)\u001b[0m\u001b[0;34m\u001b[0m\u001b[0;34m\u001b[0m\u001b[0m\n\u001b[1;32m    650\u001b[0m       \u001b[0;32mreturn\u001b[0m \u001b[0mresult\u001b[0m\u001b[0;34m\u001b[0m\u001b[0;34m\u001b[0m\u001b[0m\n",
            "\u001b[0;32m/usr/local/lib/python3.6/dist-packages/tensorflow/python/ops/gen_resource_variable_ops.py\u001b[0m in \u001b[0;36mread_variable_op\u001b[0;34m(resource, dtype, name)\u001b[0m\n\u001b[1;32m    478\u001b[0m       \u001b[0;32mreturn\u001b[0m \u001b[0m_result\u001b[0m\u001b[0;34m\u001b[0m\u001b[0;34m\u001b[0m\u001b[0m\n\u001b[1;32m    479\u001b[0m     \u001b[0;32mexcept\u001b[0m \u001b[0m_core\u001b[0m\u001b[0;34m.\u001b[0m\u001b[0m_NotOkStatusException\u001b[0m \u001b[0;32mas\u001b[0m \u001b[0me\u001b[0m\u001b[0;34m:\u001b[0m\u001b[0;34m\u001b[0m\u001b[0;34m\u001b[0m\u001b[0m\n\u001b[0;32m--> 480\u001b[0;31m       \u001b[0m_ops\u001b[0m\u001b[0;34m.\u001b[0m\u001b[0mraise_from_not_ok_status\u001b[0m\u001b[0;34m(\u001b[0m\u001b[0me\u001b[0m\u001b[0;34m,\u001b[0m \u001b[0mname\u001b[0m\u001b[0;34m)\u001b[0m\u001b[0;34m\u001b[0m\u001b[0;34m\u001b[0m\u001b[0m\n\u001b[0m\u001b[1;32m    481\u001b[0m     \u001b[0;32mexcept\u001b[0m \u001b[0m_core\u001b[0m\u001b[0;34m.\u001b[0m\u001b[0m_FallbackException\u001b[0m\u001b[0;34m:\u001b[0m\u001b[0;34m\u001b[0m\u001b[0;34m\u001b[0m\u001b[0m\n\u001b[1;32m    482\u001b[0m       \u001b[0;32mpass\u001b[0m\u001b[0;34m\u001b[0m\u001b[0;34m\u001b[0m\u001b[0m\n",
            "\u001b[0;32m/usr/local/lib/python3.6/dist-packages/tensorflow/python/framework/ops.py\u001b[0m in \u001b[0;36mraise_from_not_ok_status\u001b[0;34m(e, name)\u001b[0m\n\u001b[1;32m   6841\u001b[0m   \u001b[0mmessage\u001b[0m \u001b[0;34m=\u001b[0m \u001b[0me\u001b[0m\u001b[0;34m.\u001b[0m\u001b[0mmessage\u001b[0m \u001b[0;34m+\u001b[0m \u001b[0;34m(\u001b[0m\u001b[0;34m\" name: \"\u001b[0m \u001b[0;34m+\u001b[0m \u001b[0mname\u001b[0m \u001b[0;32mif\u001b[0m \u001b[0mname\u001b[0m \u001b[0;32mis\u001b[0m \u001b[0;32mnot\u001b[0m \u001b[0;32mNone\u001b[0m \u001b[0;32melse\u001b[0m \u001b[0;34m\"\"\u001b[0m\u001b[0;34m)\u001b[0m\u001b[0;34m\u001b[0m\u001b[0;34m\u001b[0m\u001b[0m\n\u001b[1;32m   6842\u001b[0m   \u001b[0;31m# pylint: disable=protected-access\u001b[0m\u001b[0;34m\u001b[0m\u001b[0;34m\u001b[0m\u001b[0;34m\u001b[0m\u001b[0m\n\u001b[0;32m-> 6843\u001b[0;31m   \u001b[0msix\u001b[0m\u001b[0;34m.\u001b[0m\u001b[0mraise_from\u001b[0m\u001b[0;34m(\u001b[0m\u001b[0mcore\u001b[0m\u001b[0;34m.\u001b[0m\u001b[0m_status_to_exception\u001b[0m\u001b[0;34m(\u001b[0m\u001b[0me\u001b[0m\u001b[0;34m.\u001b[0m\u001b[0mcode\u001b[0m\u001b[0;34m,\u001b[0m \u001b[0mmessage\u001b[0m\u001b[0;34m)\u001b[0m\u001b[0;34m,\u001b[0m \u001b[0;32mNone\u001b[0m\u001b[0;34m)\u001b[0m\u001b[0;34m\u001b[0m\u001b[0;34m\u001b[0m\u001b[0m\n\u001b[0m\u001b[1;32m   6844\u001b[0m   \u001b[0;31m# pylint: enable=protected-access\u001b[0m\u001b[0;34m\u001b[0m\u001b[0;34m\u001b[0m\u001b[0;34m\u001b[0m\u001b[0m\n\u001b[1;32m   6845\u001b[0m \u001b[0;34m\u001b[0m\u001b[0m\n",
            "\u001b[0;32m/usr/local/lib/python3.6/dist-packages/six.py\u001b[0m in \u001b[0;36mraise_from\u001b[0;34m(value, from_value)\u001b[0m\n",
            "\u001b[0;31mFailedPreconditionError\u001b[0m: Error while reading resource variable Adam/learning_rate_1416 from Container: localhost. This could mean that the variable was uninitialized. Not found: Container localhost does not exist. (Could not find resource: localhost/Adam/learning_rate_1416) [Op:ReadVariableOp]"
          ]
        }
      ]
    },
    {
      "cell_type": "code",
      "metadata": {
        "id": "fh3FZWSNSlsc"
      },
      "source": [
        "# Install the PyDrive wrapper & import libraries.\r\n",
        "# This only needs to be done once in a notebook.\r\n",
        "!pip install -U -q PyDrive\r\n",
        "from pydrive.auth import GoogleAuth\r\n",
        "from pydrive.drive import GoogleDrive\r\n",
        "from google.colab import auth\r\n",
        "from oauth2client.client import GoogleCredentials\r\n",
        "\r\n",
        "# Authenticate and create the PyDrive client.\r\n",
        "# This only needs to be done once in a notebook.\r\n",
        "auth.authenticate_user()\r\n",
        "gauth = GoogleAuth()\r\n",
        "gauth.credentials = GoogleCredentials.get_application_default()\r\n",
        "drive = GoogleDrive(gauth)\r\n",
        "\r\n",
        "# Create & upload a file.\r\n",
        "uploaded = drive.CreateFile({'title': '.h5'})\r\n",
        "uploaded.SetContentFile('model1.h5')\r\n",
        "uploaded.Upload()\r\n",
        "print('Uploaded file with ID {}'.format(uploaded.get('id')))"
      ],
      "execution_count": null,
      "outputs": []
    },
    {
      "cell_type": "code",
      "metadata": {
        "id": "0QQf68h2KHUU"
      },
      "source": [
        "new_model = load_model('model.h5')"
      ],
      "execution_count": null,
      "outputs": []
    },
    {
      "cell_type": "code",
      "metadata": {
        "id": "QcGWCpOYKHcU"
      },
      "source": [
        "model_test = keras.models.load_model(\"model.h5\")"
      ],
      "execution_count": null,
      "outputs": []
    },
    {
      "cell_type": "code",
      "metadata": {
        "id": "FouaLoIPA0me"
      },
      "source": [
        "# download to google drive\n",
        "#drive.CreateFile({'id': model_file.get('id')})"
      ],
      "execution_count": null,
      "outputs": []
    },
    {
      "cell_type": "code",
      "metadata": {
        "id": "J13ZZmLXA0o6"
      },
      "source": [
        "#model.save_weights('model_weights.h5')\n",
        "#weights_file = drive.CreateFile({'title' : 'model_weights.h5'})\n",
        "#weights_file.SetContentFile('model_weights.h5')\n",
        "#weights_file.Upload()\n",
        "#drive.CreateFile({'id': weights_file.get('id')})"
      ],
      "execution_count": null,
      "outputs": []
    },
    {
      "cell_type": "code",
      "metadata": {
        "id": "I-TySZpxA0t2"
      },
      "source": [
        "# 3. reload weights from google drive into the model\n",
        "\n",
        "# use (get shareable link) to get file id\n",
        "#last_weight_file = drive.CreateFile({'id': '1i_6BpxqgNbMjmbw6ML1mnBjoYi_LuO4Y'}) \n",
        "#last_weight_file.GetContentFile('last_weights.mat')\n",
        "#model.load_weights('last_weights.mat')"
      ],
      "execution_count": null,
      "outputs": []
    },
    {
      "cell_type": "code",
      "metadata": {
        "id": "JlmEi10JDalf"
      },
      "source": [
        "#new_model.summary()"
      ],
      "execution_count": null,
      "outputs": []
    },
    {
      "cell_type": "code",
      "metadata": {
        "id": "ONIFMV7CDaow"
      },
      "source": [
        "#new_model.get_weights()"
      ],
      "execution_count": null,
      "outputs": []
    },
    {
      "cell_type": "code",
      "metadata": {
        "id": "YQjWOqWCDas4"
      },
      "source": [
        "#json_string = model.to_json()\n",
        "#yaml_string = model.to_yaml()\n",
        "#from keras.models import model_from_json\n",
        "#model_architecture = model_from_json(json_string)\n",
        "#model_architecture.summary()"
      ],
      "execution_count": null,
      "outputs": []
    },
    {
      "cell_type": "code",
      "metadata": {
        "id": "XCsEa5yeDayt"
      },
      "source": [
        "#model.save_weights('my_model_weights.h5')\n",
        "#Go to deeplizard"
      ],
      "execution_count": null,
      "outputs": []
    }
  ]
}